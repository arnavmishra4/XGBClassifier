{
 "cells": [
  {
   "cell_type": "code",
   "execution_count": 1,
   "id": "10fc8252",
   "metadata": {
    "_cell_guid": "b1076dfc-b9ad-4769-8c92-a6c4dae69d19",
    "_uuid": "8f2839f25d086af736a60e9eeb907d3b93b6e0e5",
    "execution": {
     "iopub.execute_input": "2024-07-08T14:38:03.791994Z",
     "iopub.status.busy": "2024-07-08T14:38:03.791662Z",
     "iopub.status.idle": "2024-07-08T14:38:04.554944Z",
     "shell.execute_reply": "2024-07-08T14:38:04.553906Z"
    },
    "papermill": {
     "duration": 0.777239,
     "end_time": "2024-07-08T14:38:04.557036",
     "exception": false,
     "start_time": "2024-07-08T14:38:03.779797",
     "status": "completed"
    },
    "tags": []
   },
   "outputs": [
    {
     "name": "stdout",
     "output_type": "stream",
     "text": [
      "/kaggle/input/playground-series-s4e7/sample_submission.csv\n",
      "/kaggle/input/playground-series-s4e7/train.csv\n",
      "/kaggle/input/playground-series-s4e7/test.csv\n"
     ]
    }
   ],
   "source": [
    "# This Python 3 environment comes with many helpful analytics libraries installed\n",
    "# It is defined by the kaggle/python Docker image: https://github.com/kaggle/docker-python\n",
    "# For example, here's several helpful packages to load\n",
    "\n",
    "import numpy as np # linear algebra\n",
    "import pandas as pd # data processing, CSV file I/O (e.g. pd.read_csv)\n",
    "\n",
    "# Input data files are available in the read-only \"../input/\" directory\n",
    "# For example, running this (by clicking run or pressing Shift+Enter) will list all files under the input directory\n",
    "\n",
    "import os\n",
    "for dirname, _, filenames in os.walk('/kaggle/input'):\n",
    "    for filename in filenames:\n",
    "        print(os.path.join(dirname, filename))\n",
    "\n",
    "# You can write up to 20GB to the current directory (/kaggle/working/) that gets preserved as output when you create a version using \"Save & Run All\" \n",
    "# You can also write temporary files to /kaggle/temp/, but they won't be saved outside of the current session"
   ]
  },
  {
   "cell_type": "code",
   "execution_count": 2,
   "id": "4f88dcaa",
   "metadata": {
    "execution": {
     "iopub.execute_input": "2024-07-08T14:38:04.579353Z",
     "iopub.status.busy": "2024-07-08T14:38:04.578699Z",
     "iopub.status.idle": "2024-07-08T14:38:37.896221Z",
     "shell.execute_reply": "2024-07-08T14:38:37.895060Z"
    },
    "papermill": {
     "duration": 33.331559,
     "end_time": "2024-07-08T14:38:37.899096",
     "exception": false,
     "start_time": "2024-07-08T14:38:04.567537",
     "status": "completed"
    },
    "tags": []
   },
   "outputs": [],
   "source": [
    "train = pd.read_csv('/kaggle/input/playground-series-s4e7/train.csv')\n",
    "test = pd.read_csv('/kaggle/input/playground-series-s4e7/test.csv')"
   ]
  },
  {
   "cell_type": "code",
   "execution_count": 3,
   "id": "2e80504c",
   "metadata": {
    "execution": {
     "iopub.execute_input": "2024-07-08T14:38:37.926532Z",
     "iopub.status.busy": "2024-07-08T14:38:37.926208Z",
     "iopub.status.idle": "2024-07-08T14:38:37.957410Z",
     "shell.execute_reply": "2024-07-08T14:38:37.956523Z"
    },
    "papermill": {
     "duration": 0.046689,
     "end_time": "2024-07-08T14:38:37.959379",
     "exception": false,
     "start_time": "2024-07-08T14:38:37.912690",
     "status": "completed"
    },
    "tags": []
   },
   "outputs": [
    {
     "data": {
      "text/html": [
       "<div>\n",
       "<style scoped>\n",
       "    .dataframe tbody tr th:only-of-type {\n",
       "        vertical-align: middle;\n",
       "    }\n",
       "\n",
       "    .dataframe tbody tr th {\n",
       "        vertical-align: top;\n",
       "    }\n",
       "\n",
       "    .dataframe thead th {\n",
       "        text-align: right;\n",
       "    }\n",
       "</style>\n",
       "<table border=\"1\" class=\"dataframe\">\n",
       "  <thead>\n",
       "    <tr style=\"text-align: right;\">\n",
       "      <th></th>\n",
       "      <th>id</th>\n",
       "      <th>Gender</th>\n",
       "      <th>Age</th>\n",
       "      <th>Driving_License</th>\n",
       "      <th>Region_Code</th>\n",
       "      <th>Previously_Insured</th>\n",
       "      <th>Vehicle_Age</th>\n",
       "      <th>Vehicle_Damage</th>\n",
       "      <th>Annual_Premium</th>\n",
       "      <th>Policy_Sales_Channel</th>\n",
       "      <th>Vintage</th>\n",
       "      <th>Response</th>\n",
       "    </tr>\n",
       "  </thead>\n",
       "  <tbody>\n",
       "    <tr>\n",
       "      <th>0</th>\n",
       "      <td>0</td>\n",
       "      <td>Male</td>\n",
       "      <td>21</td>\n",
       "      <td>1</td>\n",
       "      <td>35.0</td>\n",
       "      <td>0</td>\n",
       "      <td>1-2 Year</td>\n",
       "      <td>Yes</td>\n",
       "      <td>65101.0</td>\n",
       "      <td>124.0</td>\n",
       "      <td>187</td>\n",
       "      <td>0</td>\n",
       "    </tr>\n",
       "    <tr>\n",
       "      <th>1</th>\n",
       "      <td>1</td>\n",
       "      <td>Male</td>\n",
       "      <td>43</td>\n",
       "      <td>1</td>\n",
       "      <td>28.0</td>\n",
       "      <td>0</td>\n",
       "      <td>&gt; 2 Years</td>\n",
       "      <td>Yes</td>\n",
       "      <td>58911.0</td>\n",
       "      <td>26.0</td>\n",
       "      <td>288</td>\n",
       "      <td>1</td>\n",
       "    </tr>\n",
       "    <tr>\n",
       "      <th>2</th>\n",
       "      <td>2</td>\n",
       "      <td>Female</td>\n",
       "      <td>25</td>\n",
       "      <td>1</td>\n",
       "      <td>14.0</td>\n",
       "      <td>1</td>\n",
       "      <td>&lt; 1 Year</td>\n",
       "      <td>No</td>\n",
       "      <td>38043.0</td>\n",
       "      <td>152.0</td>\n",
       "      <td>254</td>\n",
       "      <td>0</td>\n",
       "    </tr>\n",
       "    <tr>\n",
       "      <th>3</th>\n",
       "      <td>3</td>\n",
       "      <td>Female</td>\n",
       "      <td>35</td>\n",
       "      <td>1</td>\n",
       "      <td>1.0</td>\n",
       "      <td>0</td>\n",
       "      <td>1-2 Year</td>\n",
       "      <td>Yes</td>\n",
       "      <td>2630.0</td>\n",
       "      <td>156.0</td>\n",
       "      <td>76</td>\n",
       "      <td>0</td>\n",
       "    </tr>\n",
       "    <tr>\n",
       "      <th>4</th>\n",
       "      <td>4</td>\n",
       "      <td>Female</td>\n",
       "      <td>36</td>\n",
       "      <td>1</td>\n",
       "      <td>15.0</td>\n",
       "      <td>1</td>\n",
       "      <td>1-2 Year</td>\n",
       "      <td>No</td>\n",
       "      <td>31951.0</td>\n",
       "      <td>152.0</td>\n",
       "      <td>294</td>\n",
       "      <td>0</td>\n",
       "    </tr>\n",
       "    <tr>\n",
       "      <th>...</th>\n",
       "      <td>...</td>\n",
       "      <td>...</td>\n",
       "      <td>...</td>\n",
       "      <td>...</td>\n",
       "      <td>...</td>\n",
       "      <td>...</td>\n",
       "      <td>...</td>\n",
       "      <td>...</td>\n",
       "      <td>...</td>\n",
       "      <td>...</td>\n",
       "      <td>...</td>\n",
       "      <td>...</td>\n",
       "    </tr>\n",
       "    <tr>\n",
       "      <th>11504793</th>\n",
       "      <td>11504793</td>\n",
       "      <td>Male</td>\n",
       "      <td>48</td>\n",
       "      <td>1</td>\n",
       "      <td>6.0</td>\n",
       "      <td>0</td>\n",
       "      <td>1-2 Year</td>\n",
       "      <td>Yes</td>\n",
       "      <td>27412.0</td>\n",
       "      <td>26.0</td>\n",
       "      <td>218</td>\n",
       "      <td>0</td>\n",
       "    </tr>\n",
       "    <tr>\n",
       "      <th>11504794</th>\n",
       "      <td>11504794</td>\n",
       "      <td>Female</td>\n",
       "      <td>26</td>\n",
       "      <td>1</td>\n",
       "      <td>36.0</td>\n",
       "      <td>0</td>\n",
       "      <td>&lt; 1 Year</td>\n",
       "      <td>Yes</td>\n",
       "      <td>29509.0</td>\n",
       "      <td>152.0</td>\n",
       "      <td>115</td>\n",
       "      <td>1</td>\n",
       "    </tr>\n",
       "    <tr>\n",
       "      <th>11504795</th>\n",
       "      <td>11504795</td>\n",
       "      <td>Female</td>\n",
       "      <td>29</td>\n",
       "      <td>1</td>\n",
       "      <td>32.0</td>\n",
       "      <td>1</td>\n",
       "      <td>&lt; 1 Year</td>\n",
       "      <td>No</td>\n",
       "      <td>2630.0</td>\n",
       "      <td>152.0</td>\n",
       "      <td>189</td>\n",
       "      <td>0</td>\n",
       "    </tr>\n",
       "    <tr>\n",
       "      <th>11504796</th>\n",
       "      <td>11504796</td>\n",
       "      <td>Female</td>\n",
       "      <td>51</td>\n",
       "      <td>1</td>\n",
       "      <td>28.0</td>\n",
       "      <td>0</td>\n",
       "      <td>1-2 Year</td>\n",
       "      <td>Yes</td>\n",
       "      <td>48443.0</td>\n",
       "      <td>26.0</td>\n",
       "      <td>274</td>\n",
       "      <td>1</td>\n",
       "    </tr>\n",
       "    <tr>\n",
       "      <th>11504797</th>\n",
       "      <td>11504797</td>\n",
       "      <td>Male</td>\n",
       "      <td>25</td>\n",
       "      <td>1</td>\n",
       "      <td>28.0</td>\n",
       "      <td>1</td>\n",
       "      <td>&lt; 1 Year</td>\n",
       "      <td>No</td>\n",
       "      <td>32855.0</td>\n",
       "      <td>152.0</td>\n",
       "      <td>189</td>\n",
       "      <td>0</td>\n",
       "    </tr>\n",
       "  </tbody>\n",
       "</table>\n",
       "<p>11504798 rows × 12 columns</p>\n",
       "</div>"
      ],
      "text/plain": [
       "                id  Gender  Age  Driving_License  Region_Code  \\\n",
       "0                0    Male   21                1         35.0   \n",
       "1                1    Male   43                1         28.0   \n",
       "2                2  Female   25                1         14.0   \n",
       "3                3  Female   35                1          1.0   \n",
       "4                4  Female   36                1         15.0   \n",
       "...            ...     ...  ...              ...          ...   \n",
       "11504793  11504793    Male   48                1          6.0   \n",
       "11504794  11504794  Female   26                1         36.0   \n",
       "11504795  11504795  Female   29                1         32.0   \n",
       "11504796  11504796  Female   51                1         28.0   \n",
       "11504797  11504797    Male   25                1         28.0   \n",
       "\n",
       "          Previously_Insured Vehicle_Age Vehicle_Damage  Annual_Premium  \\\n",
       "0                          0    1-2 Year            Yes         65101.0   \n",
       "1                          0   > 2 Years            Yes         58911.0   \n",
       "2                          1    < 1 Year             No         38043.0   \n",
       "3                          0    1-2 Year            Yes          2630.0   \n",
       "4                          1    1-2 Year             No         31951.0   \n",
       "...                      ...         ...            ...             ...   \n",
       "11504793                   0    1-2 Year            Yes         27412.0   \n",
       "11504794                   0    < 1 Year            Yes         29509.0   \n",
       "11504795                   1    < 1 Year             No          2630.0   \n",
       "11504796                   0    1-2 Year            Yes         48443.0   \n",
       "11504797                   1    < 1 Year             No         32855.0   \n",
       "\n",
       "          Policy_Sales_Channel  Vintage  Response  \n",
       "0                        124.0      187         0  \n",
       "1                         26.0      288         1  \n",
       "2                        152.0      254         0  \n",
       "3                        156.0       76         0  \n",
       "4                        152.0      294         0  \n",
       "...                        ...      ...       ...  \n",
       "11504793                  26.0      218         0  \n",
       "11504794                 152.0      115         1  \n",
       "11504795                 152.0      189         0  \n",
       "11504796                  26.0      274         1  \n",
       "11504797                 152.0      189         0  \n",
       "\n",
       "[11504798 rows x 12 columns]"
      ]
     },
     "execution_count": 3,
     "metadata": {},
     "output_type": "execute_result"
    }
   ],
   "source": [
    "train"
   ]
  },
  {
   "cell_type": "code",
   "execution_count": 4,
   "id": "222e93a3",
   "metadata": {
    "execution": {
     "iopub.execute_input": "2024-07-08T14:38:37.982753Z",
     "iopub.status.busy": "2024-07-08T14:38:37.982466Z",
     "iopub.status.idle": "2024-07-08T14:38:38.087860Z",
     "shell.execute_reply": "2024-07-08T14:38:38.086984Z"
    },
    "papermill": {
     "duration": 0.119598,
     "end_time": "2024-07-08T14:38:38.089827",
     "exception": false,
     "start_time": "2024-07-08T14:38:37.970229",
     "status": "completed"
    },
    "tags": []
   },
   "outputs": [
    {
     "data": {
      "text/plain": [
       "Response\n",
       "0    10089739\n",
       "1     1415059\n",
       "Name: count, dtype: int64"
      ]
     },
     "execution_count": 4,
     "metadata": {},
     "output_type": "execute_result"
    }
   ],
   "source": [
    "train.Response.value_counts()"
   ]
  },
  {
   "cell_type": "code",
   "execution_count": 5,
   "id": "7e067595",
   "metadata": {
    "execution": {
     "iopub.execute_input": "2024-07-08T14:38:38.112776Z",
     "iopub.status.busy": "2024-07-08T14:38:38.112484Z",
     "iopub.status.idle": "2024-07-08T14:38:42.495207Z",
     "shell.execute_reply": "2024-07-08T14:38:42.494125Z"
    },
    "papermill": {
     "duration": 4.396774,
     "end_time": "2024-07-08T14:38:42.497541",
     "exception": false,
     "start_time": "2024-07-08T14:38:38.100767",
     "status": "completed"
    },
    "tags": []
   },
   "outputs": [
    {
     "name": "stdout",
     "output_type": "stream",
     "text": [
      "Response\n",
      "1    1415059\n",
      "0    1415059\n",
      "Name: count, dtype: int64\n"
     ]
    }
   ],
   "source": [
    "# Import required libraries\n",
    "import pandas as pd\n",
    "\n",
    "# Number of samples in the minority class\n",
    "min_class_count = train['Response'].value_counts().min()\n",
    "\n",
    "# Separate the data into two DataFrames based on the class\n",
    "df_class_0 = train[train['Response'] == 0]\n",
    "df_class_1 = train[train['Response'] == 1]\n",
    "\n",
    "# Randomly sample from the majority class to match the minority class\n",
    "df_class_0_sampled = df_class_0.sample(n=min_class_count, random_state=42)\n",
    "df_class_1_sampled = df_class_1.sample(n=min_class_count, random_state=42)\n",
    "\n",
    "# Combine the sampled data into a new balanced DataFrame\n",
    "train = pd.concat([df_class_0_sampled, df_class_1_sampled])\n",
    "\n",
    "# Shuffle the rows of the balanced DataFrame\n",
    "train = train.sample(frac=1, random_state=42).reset_index(drop=True)\n",
    "\n",
    "# Verify the new class distribution\n",
    "print(train['Response'].value_counts())\n"
   ]
  },
  {
   "cell_type": "code",
   "execution_count": 6,
   "id": "c0ce82af",
   "metadata": {
    "execution": {
     "iopub.execute_input": "2024-07-08T14:38:42.520950Z",
     "iopub.status.busy": "2024-07-08T14:38:42.520652Z",
     "iopub.status.idle": "2024-07-08T14:38:42.539836Z",
     "shell.execute_reply": "2024-07-08T14:38:42.538969Z"
    },
    "papermill": {
     "duration": 0.032963,
     "end_time": "2024-07-08T14:38:42.541863",
     "exception": false,
     "start_time": "2024-07-08T14:38:42.508900",
     "status": "completed"
    },
    "tags": []
   },
   "outputs": [
    {
     "data": {
      "text/html": [
       "<div>\n",
       "<style scoped>\n",
       "    .dataframe tbody tr th:only-of-type {\n",
       "        vertical-align: middle;\n",
       "    }\n",
       "\n",
       "    .dataframe tbody tr th {\n",
       "        vertical-align: top;\n",
       "    }\n",
       "\n",
       "    .dataframe thead th {\n",
       "        text-align: right;\n",
       "    }\n",
       "</style>\n",
       "<table border=\"1\" class=\"dataframe\">\n",
       "  <thead>\n",
       "    <tr style=\"text-align: right;\">\n",
       "      <th></th>\n",
       "      <th>id</th>\n",
       "      <th>Gender</th>\n",
       "      <th>Age</th>\n",
       "      <th>Driving_License</th>\n",
       "      <th>Region_Code</th>\n",
       "      <th>Previously_Insured</th>\n",
       "      <th>Vehicle_Age</th>\n",
       "      <th>Vehicle_Damage</th>\n",
       "      <th>Annual_Premium</th>\n",
       "      <th>Policy_Sales_Channel</th>\n",
       "      <th>Vintage</th>\n",
       "      <th>Response</th>\n",
       "    </tr>\n",
       "  </thead>\n",
       "  <tbody>\n",
       "    <tr>\n",
       "      <th>0</th>\n",
       "      <td>789587</td>\n",
       "      <td>Female</td>\n",
       "      <td>38</td>\n",
       "      <td>1</td>\n",
       "      <td>11.0</td>\n",
       "      <td>0</td>\n",
       "      <td>1-2 Year</td>\n",
       "      <td>Yes</td>\n",
       "      <td>23750.0</td>\n",
       "      <td>26.0</td>\n",
       "      <td>191</td>\n",
       "      <td>1</td>\n",
       "    </tr>\n",
       "    <tr>\n",
       "      <th>1</th>\n",
       "      <td>6654021</td>\n",
       "      <td>Male</td>\n",
       "      <td>60</td>\n",
       "      <td>1</td>\n",
       "      <td>33.0</td>\n",
       "      <td>1</td>\n",
       "      <td>1-2 Year</td>\n",
       "      <td>No</td>\n",
       "      <td>2630.0</td>\n",
       "      <td>152.0</td>\n",
       "      <td>275</td>\n",
       "      <td>0</td>\n",
       "    </tr>\n",
       "    <tr>\n",
       "      <th>2</th>\n",
       "      <td>4983478</td>\n",
       "      <td>Female</td>\n",
       "      <td>46</td>\n",
       "      <td>1</td>\n",
       "      <td>28.0</td>\n",
       "      <td>0</td>\n",
       "      <td>1-2 Year</td>\n",
       "      <td>Yes</td>\n",
       "      <td>46509.0</td>\n",
       "      <td>156.0</td>\n",
       "      <td>249</td>\n",
       "      <td>0</td>\n",
       "    </tr>\n",
       "    <tr>\n",
       "      <th>3</th>\n",
       "      <td>3300373</td>\n",
       "      <td>Female</td>\n",
       "      <td>24</td>\n",
       "      <td>1</td>\n",
       "      <td>41.0</td>\n",
       "      <td>1</td>\n",
       "      <td>&lt; 1 Year</td>\n",
       "      <td>No</td>\n",
       "      <td>28292.0</td>\n",
       "      <td>152.0</td>\n",
       "      <td>191</td>\n",
       "      <td>0</td>\n",
       "    </tr>\n",
       "    <tr>\n",
       "      <th>4</th>\n",
       "      <td>11310953</td>\n",
       "      <td>Female</td>\n",
       "      <td>38</td>\n",
       "      <td>1</td>\n",
       "      <td>20.0</td>\n",
       "      <td>0</td>\n",
       "      <td>1-2 Year</td>\n",
       "      <td>Yes</td>\n",
       "      <td>2630.0</td>\n",
       "      <td>26.0</td>\n",
       "      <td>272</td>\n",
       "      <td>0</td>\n",
       "    </tr>\n",
       "    <tr>\n",
       "      <th>...</th>\n",
       "      <td>...</td>\n",
       "      <td>...</td>\n",
       "      <td>...</td>\n",
       "      <td>...</td>\n",
       "      <td>...</td>\n",
       "      <td>...</td>\n",
       "      <td>...</td>\n",
       "      <td>...</td>\n",
       "      <td>...</td>\n",
       "      <td>...</td>\n",
       "      <td>...</td>\n",
       "      <td>...</td>\n",
       "    </tr>\n",
       "    <tr>\n",
       "      <th>2830113</th>\n",
       "      <td>7512370</td>\n",
       "      <td>Male</td>\n",
       "      <td>49</td>\n",
       "      <td>1</td>\n",
       "      <td>28.0</td>\n",
       "      <td>0</td>\n",
       "      <td>1-2 Year</td>\n",
       "      <td>Yes</td>\n",
       "      <td>45425.0</td>\n",
       "      <td>26.0</td>\n",
       "      <td>275</td>\n",
       "      <td>1</td>\n",
       "    </tr>\n",
       "    <tr>\n",
       "      <th>2830114</th>\n",
       "      <td>8833107</td>\n",
       "      <td>Male</td>\n",
       "      <td>43</td>\n",
       "      <td>1</td>\n",
       "      <td>41.0</td>\n",
       "      <td>0</td>\n",
       "      <td>1-2 Year</td>\n",
       "      <td>Yes</td>\n",
       "      <td>28609.0</td>\n",
       "      <td>26.0</td>\n",
       "      <td>34</td>\n",
       "      <td>1</td>\n",
       "    </tr>\n",
       "    <tr>\n",
       "      <th>2830115</th>\n",
       "      <td>6184032</td>\n",
       "      <td>Male</td>\n",
       "      <td>41</td>\n",
       "      <td>1</td>\n",
       "      <td>8.0</td>\n",
       "      <td>0</td>\n",
       "      <td>1-2 Year</td>\n",
       "      <td>Yes</td>\n",
       "      <td>35426.0</td>\n",
       "      <td>152.0</td>\n",
       "      <td>202</td>\n",
       "      <td>1</td>\n",
       "    </tr>\n",
       "    <tr>\n",
       "      <th>2830116</th>\n",
       "      <td>2391532</td>\n",
       "      <td>Male</td>\n",
       "      <td>35</td>\n",
       "      <td>1</td>\n",
       "      <td>28.0</td>\n",
       "      <td>0</td>\n",
       "      <td>1-2 Year</td>\n",
       "      <td>Yes</td>\n",
       "      <td>29192.0</td>\n",
       "      <td>125.0</td>\n",
       "      <td>69</td>\n",
       "      <td>1</td>\n",
       "    </tr>\n",
       "    <tr>\n",
       "      <th>2830117</th>\n",
       "      <td>7664027</td>\n",
       "      <td>Male</td>\n",
       "      <td>62</td>\n",
       "      <td>1</td>\n",
       "      <td>28.0</td>\n",
       "      <td>0</td>\n",
       "      <td>1-2 Year</td>\n",
       "      <td>Yes</td>\n",
       "      <td>2630.0</td>\n",
       "      <td>25.0</td>\n",
       "      <td>32</td>\n",
       "      <td>1</td>\n",
       "    </tr>\n",
       "  </tbody>\n",
       "</table>\n",
       "<p>2830118 rows × 12 columns</p>\n",
       "</div>"
      ],
      "text/plain": [
       "               id  Gender  Age  Driving_License  Region_Code  \\\n",
       "0          789587  Female   38                1         11.0   \n",
       "1         6654021    Male   60                1         33.0   \n",
       "2         4983478  Female   46                1         28.0   \n",
       "3         3300373  Female   24                1         41.0   \n",
       "4        11310953  Female   38                1         20.0   \n",
       "...           ...     ...  ...              ...          ...   \n",
       "2830113   7512370    Male   49                1         28.0   \n",
       "2830114   8833107    Male   43                1         41.0   \n",
       "2830115   6184032    Male   41                1          8.0   \n",
       "2830116   2391532    Male   35                1         28.0   \n",
       "2830117   7664027    Male   62                1         28.0   \n",
       "\n",
       "         Previously_Insured Vehicle_Age Vehicle_Damage  Annual_Premium  \\\n",
       "0                         0    1-2 Year            Yes         23750.0   \n",
       "1                         1    1-2 Year             No          2630.0   \n",
       "2                         0    1-2 Year            Yes         46509.0   \n",
       "3                         1    < 1 Year             No         28292.0   \n",
       "4                         0    1-2 Year            Yes          2630.0   \n",
       "...                     ...         ...            ...             ...   \n",
       "2830113                   0    1-2 Year            Yes         45425.0   \n",
       "2830114                   0    1-2 Year            Yes         28609.0   \n",
       "2830115                   0    1-2 Year            Yes         35426.0   \n",
       "2830116                   0    1-2 Year            Yes         29192.0   \n",
       "2830117                   0    1-2 Year            Yes          2630.0   \n",
       "\n",
       "         Policy_Sales_Channel  Vintage  Response  \n",
       "0                        26.0      191         1  \n",
       "1                       152.0      275         0  \n",
       "2                       156.0      249         0  \n",
       "3                       152.0      191         0  \n",
       "4                        26.0      272         0  \n",
       "...                       ...      ...       ...  \n",
       "2830113                  26.0      275         1  \n",
       "2830114                  26.0       34         1  \n",
       "2830115                 152.0      202         1  \n",
       "2830116                 125.0       69         1  \n",
       "2830117                  25.0       32         1  \n",
       "\n",
       "[2830118 rows x 12 columns]"
      ]
     },
     "execution_count": 6,
     "metadata": {},
     "output_type": "execute_result"
    }
   ],
   "source": [
    "train"
   ]
  },
  {
   "cell_type": "markdown",
   "id": "597645a8",
   "metadata": {
    "papermill": {
     "duration": 0.01094,
     "end_time": "2024-07-08T14:38:42.564201",
     "exception": false,
     "start_time": "2024-07-08T14:38:42.553261",
     "status": "completed"
    },
    "tags": []
   },
   "source": [
    "# EDA"
   ]
  },
  {
   "cell_type": "code",
   "execution_count": 7,
   "id": "f25b7380",
   "metadata": {
    "execution": {
     "iopub.execute_input": "2024-07-08T14:38:42.587585Z",
     "iopub.status.busy": "2024-07-08T14:38:42.587295Z",
     "iopub.status.idle": "2024-07-08T14:38:42.592575Z",
     "shell.execute_reply": "2024-07-08T14:38:42.591696Z"
    },
    "papermill": {
     "duration": 0.019301,
     "end_time": "2024-07-08T14:38:42.594568",
     "exception": false,
     "start_time": "2024-07-08T14:38:42.575267",
     "status": "completed"
    },
    "tags": []
   },
   "outputs": [
    {
     "name": "stdout",
     "output_type": "stream",
     "text": [
      "id                        int64\n",
      "Gender                   object\n",
      "Age                       int64\n",
      "Driving_License           int64\n",
      "Region_Code             float64\n",
      "Previously_Insured        int64\n",
      "Vehicle_Age              object\n",
      "Vehicle_Damage           object\n",
      "Annual_Premium          float64\n",
      "Policy_Sales_Channel    float64\n",
      "Vintage                   int64\n",
      "Response                  int64\n",
      "dtype: object\n"
     ]
    }
   ],
   "source": [
    "print(train.dtypes)"
   ]
  },
  {
   "cell_type": "code",
   "execution_count": 8,
   "id": "93439124",
   "metadata": {
    "execution": {
     "iopub.execute_input": "2024-07-08T14:38:42.618595Z",
     "iopub.status.busy": "2024-07-08T14:38:42.617786Z",
     "iopub.status.idle": "2024-07-08T14:38:42.763413Z",
     "shell.execute_reply": "2024-07-08T14:38:42.762394Z"
    },
    "papermill": {
     "duration": 0.1601,
     "end_time": "2024-07-08T14:38:42.765882",
     "exception": false,
     "start_time": "2024-07-08T14:38:42.605782",
     "status": "completed"
    },
    "tags": []
   },
   "outputs": [],
   "source": [
    "train = train.drop(columns=['id'])"
   ]
  },
  {
   "cell_type": "code",
   "execution_count": 9,
   "id": "d384eadc",
   "metadata": {
    "execution": {
     "iopub.execute_input": "2024-07-08T14:38:42.790485Z",
     "iopub.status.busy": "2024-07-08T14:38:42.790166Z",
     "iopub.status.idle": "2024-07-08T14:38:43.097673Z",
     "shell.execute_reply": "2024-07-08T14:38:43.096914Z"
    },
    "papermill": {
     "duration": 0.322178,
     "end_time": "2024-07-08T14:38:43.099926",
     "exception": false,
     "start_time": "2024-07-08T14:38:42.777748",
     "status": "completed"
    },
    "tags": []
   },
   "outputs": [],
   "source": [
    "train['Gender']= train['Gender'].map({'Male':1,'Female':0})"
   ]
  },
  {
   "cell_type": "code",
   "execution_count": 10,
   "id": "5645e8ee",
   "metadata": {
    "execution": {
     "iopub.execute_input": "2024-07-08T14:38:43.124745Z",
     "iopub.status.busy": "2024-07-08T14:38:43.124244Z",
     "iopub.status.idle": "2024-07-08T14:38:43.176413Z",
     "shell.execute_reply": "2024-07-08T14:38:43.175378Z"
    },
    "papermill": {
     "duration": 0.067002,
     "end_time": "2024-07-08T14:38:43.178836",
     "exception": false,
     "start_time": "2024-07-08T14:38:43.111834",
     "status": "completed"
    },
    "tags": []
   },
   "outputs": [],
   "source": [
    "train['Region_Code']=train['Region_Code'].astype(int)\n",
    "train['Annual_Premium']=train['Annual_Premium'].astype(int)\n",
    "train['Policy_Sales_Channel']=train['Policy_Sales_Channel'].astype(int)"
   ]
  },
  {
   "cell_type": "code",
   "execution_count": 11,
   "id": "1f4cb038",
   "metadata": {
    "execution": {
     "iopub.execute_input": "2024-07-08T14:38:43.203476Z",
     "iopub.status.busy": "2024-07-08T14:38:43.203169Z",
     "iopub.status.idle": "2024-07-08T14:38:43.483555Z",
     "shell.execute_reply": "2024-07-08T14:38:43.482745Z"
    },
    "papermill": {
     "duration": 0.29492,
     "end_time": "2024-07-08T14:38:43.485657",
     "exception": false,
     "start_time": "2024-07-08T14:38:43.190737",
     "status": "completed"
    },
    "tags": []
   },
   "outputs": [],
   "source": [
    "train['Vehicle_Damage']= train['Vehicle_Damage'].map({'Yes':1,'No':0})\n"
   ]
  },
  {
   "cell_type": "code",
   "execution_count": 12,
   "id": "2c6c0f61",
   "metadata": {
    "execution": {
     "iopub.execute_input": "2024-07-08T14:38:43.509953Z",
     "iopub.status.busy": "2024-07-08T14:38:43.509675Z",
     "iopub.status.idle": "2024-07-08T14:38:43.526669Z",
     "shell.execute_reply": "2024-07-08T14:38:43.525968Z"
    },
    "papermill": {
     "duration": 0.030997,
     "end_time": "2024-07-08T14:38:43.528540",
     "exception": false,
     "start_time": "2024-07-08T14:38:43.497543",
     "status": "completed"
    },
    "tags": []
   },
   "outputs": [],
   "source": [
    "train['Vehicle_Damage'] = train['Vehicle_Damage'].astype(int)"
   ]
  },
  {
   "cell_type": "code",
   "execution_count": 13,
   "id": "2ff8629e",
   "metadata": {
    "execution": {
     "iopub.execute_input": "2024-07-08T14:38:43.552057Z",
     "iopub.status.busy": "2024-07-08T14:38:43.551803Z",
     "iopub.status.idle": "2024-07-08T14:38:43.565716Z",
     "shell.execute_reply": "2024-07-08T14:38:43.564843Z"
    },
    "papermill": {
     "duration": 0.027814,
     "end_time": "2024-07-08T14:38:43.567643",
     "exception": false,
     "start_time": "2024-07-08T14:38:43.539829",
     "status": "completed"
    },
    "tags": []
   },
   "outputs": [
    {
     "data": {
      "text/html": [
       "<div>\n",
       "<style scoped>\n",
       "    .dataframe tbody tr th:only-of-type {\n",
       "        vertical-align: middle;\n",
       "    }\n",
       "\n",
       "    .dataframe tbody tr th {\n",
       "        vertical-align: top;\n",
       "    }\n",
       "\n",
       "    .dataframe thead th {\n",
       "        text-align: right;\n",
       "    }\n",
       "</style>\n",
       "<table border=\"1\" class=\"dataframe\">\n",
       "  <thead>\n",
       "    <tr style=\"text-align: right;\">\n",
       "      <th></th>\n",
       "      <th>Gender</th>\n",
       "      <th>Age</th>\n",
       "      <th>Driving_License</th>\n",
       "      <th>Region_Code</th>\n",
       "      <th>Previously_Insured</th>\n",
       "      <th>Vehicle_Age</th>\n",
       "      <th>Vehicle_Damage</th>\n",
       "      <th>Annual_Premium</th>\n",
       "      <th>Policy_Sales_Channel</th>\n",
       "      <th>Vintage</th>\n",
       "      <th>Response</th>\n",
       "    </tr>\n",
       "  </thead>\n",
       "  <tbody>\n",
       "    <tr>\n",
       "      <th>0</th>\n",
       "      <td>0</td>\n",
       "      <td>38</td>\n",
       "      <td>1</td>\n",
       "      <td>11</td>\n",
       "      <td>0</td>\n",
       "      <td>1-2 Year</td>\n",
       "      <td>1</td>\n",
       "      <td>23750</td>\n",
       "      <td>26</td>\n",
       "      <td>191</td>\n",
       "      <td>1</td>\n",
       "    </tr>\n",
       "    <tr>\n",
       "      <th>1</th>\n",
       "      <td>1</td>\n",
       "      <td>60</td>\n",
       "      <td>1</td>\n",
       "      <td>33</td>\n",
       "      <td>1</td>\n",
       "      <td>1-2 Year</td>\n",
       "      <td>0</td>\n",
       "      <td>2630</td>\n",
       "      <td>152</td>\n",
       "      <td>275</td>\n",
       "      <td>0</td>\n",
       "    </tr>\n",
       "    <tr>\n",
       "      <th>2</th>\n",
       "      <td>0</td>\n",
       "      <td>46</td>\n",
       "      <td>1</td>\n",
       "      <td>28</td>\n",
       "      <td>0</td>\n",
       "      <td>1-2 Year</td>\n",
       "      <td>1</td>\n",
       "      <td>46509</td>\n",
       "      <td>156</td>\n",
       "      <td>249</td>\n",
       "      <td>0</td>\n",
       "    </tr>\n",
       "    <tr>\n",
       "      <th>3</th>\n",
       "      <td>0</td>\n",
       "      <td>24</td>\n",
       "      <td>1</td>\n",
       "      <td>41</td>\n",
       "      <td>1</td>\n",
       "      <td>&lt; 1 Year</td>\n",
       "      <td>0</td>\n",
       "      <td>28292</td>\n",
       "      <td>152</td>\n",
       "      <td>191</td>\n",
       "      <td>0</td>\n",
       "    </tr>\n",
       "    <tr>\n",
       "      <th>4</th>\n",
       "      <td>0</td>\n",
       "      <td>38</td>\n",
       "      <td>1</td>\n",
       "      <td>20</td>\n",
       "      <td>0</td>\n",
       "      <td>1-2 Year</td>\n",
       "      <td>1</td>\n",
       "      <td>2630</td>\n",
       "      <td>26</td>\n",
       "      <td>272</td>\n",
       "      <td>0</td>\n",
       "    </tr>\n",
       "    <tr>\n",
       "      <th>...</th>\n",
       "      <td>...</td>\n",
       "      <td>...</td>\n",
       "      <td>...</td>\n",
       "      <td>...</td>\n",
       "      <td>...</td>\n",
       "      <td>...</td>\n",
       "      <td>...</td>\n",
       "      <td>...</td>\n",
       "      <td>...</td>\n",
       "      <td>...</td>\n",
       "      <td>...</td>\n",
       "    </tr>\n",
       "    <tr>\n",
       "      <th>2830113</th>\n",
       "      <td>1</td>\n",
       "      <td>49</td>\n",
       "      <td>1</td>\n",
       "      <td>28</td>\n",
       "      <td>0</td>\n",
       "      <td>1-2 Year</td>\n",
       "      <td>1</td>\n",
       "      <td>45425</td>\n",
       "      <td>26</td>\n",
       "      <td>275</td>\n",
       "      <td>1</td>\n",
       "    </tr>\n",
       "    <tr>\n",
       "      <th>2830114</th>\n",
       "      <td>1</td>\n",
       "      <td>43</td>\n",
       "      <td>1</td>\n",
       "      <td>41</td>\n",
       "      <td>0</td>\n",
       "      <td>1-2 Year</td>\n",
       "      <td>1</td>\n",
       "      <td>28609</td>\n",
       "      <td>26</td>\n",
       "      <td>34</td>\n",
       "      <td>1</td>\n",
       "    </tr>\n",
       "    <tr>\n",
       "      <th>2830115</th>\n",
       "      <td>1</td>\n",
       "      <td>41</td>\n",
       "      <td>1</td>\n",
       "      <td>8</td>\n",
       "      <td>0</td>\n",
       "      <td>1-2 Year</td>\n",
       "      <td>1</td>\n",
       "      <td>35426</td>\n",
       "      <td>152</td>\n",
       "      <td>202</td>\n",
       "      <td>1</td>\n",
       "    </tr>\n",
       "    <tr>\n",
       "      <th>2830116</th>\n",
       "      <td>1</td>\n",
       "      <td>35</td>\n",
       "      <td>1</td>\n",
       "      <td>28</td>\n",
       "      <td>0</td>\n",
       "      <td>1-2 Year</td>\n",
       "      <td>1</td>\n",
       "      <td>29192</td>\n",
       "      <td>125</td>\n",
       "      <td>69</td>\n",
       "      <td>1</td>\n",
       "    </tr>\n",
       "    <tr>\n",
       "      <th>2830117</th>\n",
       "      <td>1</td>\n",
       "      <td>62</td>\n",
       "      <td>1</td>\n",
       "      <td>28</td>\n",
       "      <td>0</td>\n",
       "      <td>1-2 Year</td>\n",
       "      <td>1</td>\n",
       "      <td>2630</td>\n",
       "      <td>25</td>\n",
       "      <td>32</td>\n",
       "      <td>1</td>\n",
       "    </tr>\n",
       "  </tbody>\n",
       "</table>\n",
       "<p>2830118 rows × 11 columns</p>\n",
       "</div>"
      ],
      "text/plain": [
       "         Gender  Age  Driving_License  Region_Code  Previously_Insured  \\\n",
       "0             0   38                1           11                   0   \n",
       "1             1   60                1           33                   1   \n",
       "2             0   46                1           28                   0   \n",
       "3             0   24                1           41                   1   \n",
       "4             0   38                1           20                   0   \n",
       "...         ...  ...              ...          ...                 ...   \n",
       "2830113       1   49                1           28                   0   \n",
       "2830114       1   43                1           41                   0   \n",
       "2830115       1   41                1            8                   0   \n",
       "2830116       1   35                1           28                   0   \n",
       "2830117       1   62                1           28                   0   \n",
       "\n",
       "        Vehicle_Age  Vehicle_Damage  Annual_Premium  Policy_Sales_Channel  \\\n",
       "0          1-2 Year               1           23750                    26   \n",
       "1          1-2 Year               0            2630                   152   \n",
       "2          1-2 Year               1           46509                   156   \n",
       "3          < 1 Year               0           28292                   152   \n",
       "4          1-2 Year               1            2630                    26   \n",
       "...             ...             ...             ...                   ...   \n",
       "2830113    1-2 Year               1           45425                    26   \n",
       "2830114    1-2 Year               1           28609                    26   \n",
       "2830115    1-2 Year               1           35426                   152   \n",
       "2830116    1-2 Year               1           29192                   125   \n",
       "2830117    1-2 Year               1            2630                    25   \n",
       "\n",
       "         Vintage  Response  \n",
       "0            191         1  \n",
       "1            275         0  \n",
       "2            249         0  \n",
       "3            191         0  \n",
       "4            272         0  \n",
       "...          ...       ...  \n",
       "2830113      275         1  \n",
       "2830114       34         1  \n",
       "2830115      202         1  \n",
       "2830116       69         1  \n",
       "2830117       32         1  \n",
       "\n",
       "[2830118 rows x 11 columns]"
      ]
     },
     "execution_count": 13,
     "metadata": {},
     "output_type": "execute_result"
    }
   ],
   "source": [
    "train"
   ]
  },
  {
   "cell_type": "code",
   "execution_count": 14,
   "id": "3f362ef8",
   "metadata": {
    "execution": {
     "iopub.execute_input": "2024-07-08T14:38:43.591774Z",
     "iopub.status.busy": "2024-07-08T14:38:43.591512Z",
     "iopub.status.idle": "2024-07-08T14:38:43.819378Z",
     "shell.execute_reply": "2024-07-08T14:38:43.818529Z"
    },
    "papermill": {
     "duration": 0.242175,
     "end_time": "2024-07-08T14:38:43.821407",
     "exception": false,
     "start_time": "2024-07-08T14:38:43.579232",
     "status": "completed"
    },
    "tags": []
   },
   "outputs": [
    {
     "data": {
      "text/plain": [
       "array(['1-2 Year', '< 1 Year', '> 2 Years'], dtype=object)"
      ]
     },
     "execution_count": 14,
     "metadata": {},
     "output_type": "execute_result"
    }
   ],
   "source": [
    "train['Vehicle_Age'].unique()"
   ]
  },
  {
   "cell_type": "code",
   "execution_count": 15,
   "id": "c45a4a86",
   "metadata": {
    "execution": {
     "iopub.execute_input": "2024-07-08T14:38:43.846785Z",
     "iopub.status.busy": "2024-07-08T14:38:43.846484Z",
     "iopub.status.idle": "2024-07-08T14:38:44.128943Z",
     "shell.execute_reply": "2024-07-08T14:38:44.127968Z"
    },
    "papermill": {
     "duration": 0.297609,
     "end_time": "2024-07-08T14:38:44.131239",
     "exception": false,
     "start_time": "2024-07-08T14:38:43.833630",
     "status": "completed"
    },
    "tags": []
   },
   "outputs": [],
   "source": [
    "train['Vehicle_Age'] = train['Vehicle_Age'].map({'1-2 Year':1,'> 2 Years':2,'< 1 Year':0})"
   ]
  },
  {
   "cell_type": "code",
   "execution_count": 16,
   "id": "64d53f23",
   "metadata": {
    "execution": {
     "iopub.execute_input": "2024-07-08T14:38:44.156624Z",
     "iopub.status.busy": "2024-07-08T14:38:44.156315Z",
     "iopub.status.idle": "2024-07-08T14:38:44.184825Z",
     "shell.execute_reply": "2024-07-08T14:38:44.183955Z"
    },
    "papermill": {
     "duration": 0.042975,
     "end_time": "2024-07-08T14:38:44.186683",
     "exception": false,
     "start_time": "2024-07-08T14:38:44.143708",
     "status": "completed"
    },
    "tags": []
   },
   "outputs": [
    {
     "data": {
      "text/plain": [
       "Gender                  0\n",
       "Age                     0\n",
       "Driving_License         0\n",
       "Region_Code             0\n",
       "Previously_Insured      0\n",
       "Vehicle_Age             0\n",
       "Vehicle_Damage          0\n",
       "Annual_Premium          0\n",
       "Policy_Sales_Channel    0\n",
       "Vintage                 0\n",
       "Response                0\n",
       "dtype: int64"
      ]
     },
     "execution_count": 16,
     "metadata": {},
     "output_type": "execute_result"
    }
   ],
   "source": [
    "train.isnull().sum()"
   ]
  },
  {
   "cell_type": "code",
   "execution_count": null,
   "id": "7c555829",
   "metadata": {
    "papermill": {
     "duration": 0.012151,
     "end_time": "2024-07-08T14:38:44.211229",
     "exception": false,
     "start_time": "2024-07-08T14:38:44.199078",
     "status": "completed"
    },
    "tags": []
   },
   "outputs": [],
   "source": []
  },
  {
   "cell_type": "code",
   "execution_count": 17,
   "id": "8b3bd6e7",
   "metadata": {
    "execution": {
     "iopub.execute_input": "2024-07-08T14:38:44.236153Z",
     "iopub.status.busy": "2024-07-08T14:38:44.235831Z",
     "iopub.status.idle": "2024-07-08T14:38:51.877857Z",
     "shell.execute_reply": "2024-07-08T14:38:51.876923Z"
    },
    "papermill": {
     "duration": 7.65793,
     "end_time": "2024-07-08T14:38:51.881022",
     "exception": false,
     "start_time": "2024-07-08T14:38:44.223092",
     "status": "completed"
    },
    "tags": []
   },
   "outputs": [
    {
     "data": {
      "image/png": "[encoded data removed]",
      "text/plain": [
       "<Figure size 1000x600 with 1 Axes>"
      ]
     },
     "metadata": {},
     "output_type": "display_data"
    }
   ],
   "source": [
    "import seaborn as sns\n",
    "import matplotlib.pyplot as plt\n",
    "\n",
    "# Create a dot plot\n",
    "plt.figure(figsize=(10, 6))\n",
    "sns.scatterplot(x=train.index, y=train['Annual_Premium'], color='blue', edgecolor='k', alpha=0.5)\n",
    "plt.title('Dot Plot of Annual Premium')\n",
    "plt.xlabel('Index')\n",
    "plt.ylabel('Annual Premium')\n",
    "plt.show()\n"
   ]
  },
  {
   "cell_type": "code",
   "execution_count": 18,
   "id": "06a78015",
   "metadata": {
    "execution": {
     "iopub.execute_input": "2024-07-08T14:38:51.910992Z",
     "iopub.status.busy": "2024-07-08T14:38:51.910625Z",
     "iopub.status.idle": "2024-07-08T14:38:52.012493Z",
     "shell.execute_reply": "2024-07-08T14:38:52.011625Z"
    },
    "papermill": {
     "duration": 0.119496,
     "end_time": "2024-07-08T14:38:52.014689",
     "exception": false,
     "start_time": "2024-07-08T14:38:51.895193",
     "status": "completed"
    },
    "tags": []
   },
   "outputs": [],
   "source": [
    "y_train = train['Response']\n",
    "x_train = train.drop(columns =['Response'])\n"
   ]
  },
  {
   "cell_type": "code",
   "execution_count": 19,
   "id": "0761983e",
   "metadata": {
    "execution": {
     "iopub.execute_input": "2024-07-08T14:38:52.043855Z",
     "iopub.status.busy": "2024-07-08T14:38:52.043548Z",
     "iopub.status.idle": "2024-07-08T14:38:52.788157Z",
     "shell.execute_reply": "2024-07-08T14:38:52.787283Z"
    },
    "papermill": {
     "duration": 0.761555,
     "end_time": "2024-07-08T14:38:52.790464",
     "exception": false,
     "start_time": "2024-07-08T14:38:52.028909",
     "status": "completed"
    },
    "tags": []
   },
   "outputs": [],
   "source": [
    "from sklearn.model_selection import train_test_split\n",
    "x_train, x_val, y_train, y_val = train_test_split(x_train, y_train, test_size=0.2, random_state=42)"
   ]
  },
  {
   "cell_type": "markdown",
   "id": "a7385533",
   "metadata": {
    "papermill": {
     "duration": 0.013623,
     "end_time": "2024-07-08T14:38:52.818264",
     "exception": false,
     "start_time": "2024-07-08T14:38:52.804641",
     "status": "completed"
    },
    "tags": []
   },
   "source": [
    "# For Test"
   ]
  },
  {
   "cell_type": "code",
   "execution_count": 20,
   "id": "0817771d",
   "metadata": {
    "execution": {
     "iopub.execute_input": "2024-07-08T14:38:52.846875Z",
     "iopub.status.busy": "2024-07-08T14:38:52.846546Z",
     "iopub.status.idle": "2024-07-08T14:38:53.633430Z",
     "shell.execute_reply": "2024-07-08T14:38:53.632628Z"
    },
    "papermill": {
     "duration": 0.803769,
     "end_time": "2024-07-08T14:38:53.635756",
     "exception": false,
     "start_time": "2024-07-08T14:38:52.831987",
     "status": "completed"
    },
    "tags": []
   },
   "outputs": [],
   "source": [
    "test['Gender']= test['Gender'].map({'Male':1,'Female':0})"
   ]
  },
  {
   "cell_type": "code",
   "execution_count": 21,
   "id": "4be80a51",
   "metadata": {
    "execution": {
     "iopub.execute_input": "2024-07-08T14:38:53.665675Z",
     "iopub.status.busy": "2024-07-08T14:38:53.665387Z",
     "iopub.status.idle": "2024-07-08T14:38:53.789942Z",
     "shell.execute_reply": "2024-07-08T14:38:53.789157Z"
    },
    "papermill": {
     "duration": 0.14164,
     "end_time": "2024-07-08T14:38:53.792323",
     "exception": false,
     "start_time": "2024-07-08T14:38:53.650683",
     "status": "completed"
    },
    "tags": []
   },
   "outputs": [],
   "source": [
    "test['Region_Code']=test['Region_Code'].astype(int)\n",
    "test['Annual_Premium']=test['Annual_Premium'].astype(int)\n",
    "test['Policy_Sales_Channel']=test['Policy_Sales_Channel'].astype(int)"
   ]
  },
  {
   "cell_type": "code",
   "execution_count": 22,
   "id": "36e88cf8",
   "metadata": {
    "execution": {
     "iopub.execute_input": "2024-07-08T14:38:53.821806Z",
     "iopub.status.busy": "2024-07-08T14:38:53.821533Z",
     "iopub.status.idle": "2024-07-08T14:38:54.618488Z",
     "shell.execute_reply": "2024-07-08T14:38:54.617665Z"
    },
    "papermill": {
     "duration": 0.814371,
     "end_time": "2024-07-08T14:38:54.620949",
     "exception": false,
     "start_time": "2024-07-08T14:38:53.806578",
     "status": "completed"
    },
    "tags": []
   },
   "outputs": [],
   "source": [
    "test['Vehicle_Damage']= test['Vehicle_Damage'].map({'Yes':1,'No':0})\n"
   ]
  },
  {
   "cell_type": "code",
   "execution_count": 23,
   "id": "a0b225e1",
   "metadata": {
    "execution": {
     "iopub.execute_input": "2024-07-08T14:38:54.651059Z",
     "iopub.status.busy": "2024-07-08T14:38:54.650474Z",
     "iopub.status.idle": "2024-07-08T14:38:54.666201Z",
     "shell.execute_reply": "2024-07-08T14:38:54.665393Z"
    },
    "papermill": {
     "duration": 0.032875,
     "end_time": "2024-07-08T14:38:54.668496",
     "exception": false,
     "start_time": "2024-07-08T14:38:54.635621",
     "status": "completed"
    },
    "tags": []
   },
   "outputs": [
    {
     "data": {
      "text/html": [
       "<div>\n",
       "<style scoped>\n",
       "    .dataframe tbody tr th:only-of-type {\n",
       "        vertical-align: middle;\n",
       "    }\n",
       "\n",
       "    .dataframe tbody tr th {\n",
       "        vertical-align: top;\n",
       "    }\n",
       "\n",
       "    .dataframe thead th {\n",
       "        text-align: right;\n",
       "    }\n",
       "</style>\n",
       "<table border=\"1\" class=\"dataframe\">\n",
       "  <thead>\n",
       "    <tr style=\"text-align: right;\">\n",
       "      <th></th>\n",
       "      <th>id</th>\n",
       "      <th>Gender</th>\n",
       "      <th>Age</th>\n",
       "      <th>Driving_License</th>\n",
       "      <th>Region_Code</th>\n",
       "      <th>Previously_Insured</th>\n",
       "      <th>Vehicle_Age</th>\n",
       "      <th>Vehicle_Damage</th>\n",
       "      <th>Annual_Premium</th>\n",
       "      <th>Policy_Sales_Channel</th>\n",
       "      <th>Vintage</th>\n",
       "    </tr>\n",
       "  </thead>\n",
       "  <tbody>\n",
       "    <tr>\n",
       "      <th>0</th>\n",
       "      <td>11504798</td>\n",
       "      <td>0</td>\n",
       "      <td>20</td>\n",
       "      <td>1</td>\n",
       "      <td>47</td>\n",
       "      <td>0</td>\n",
       "      <td>&lt; 1 Year</td>\n",
       "      <td>0</td>\n",
       "      <td>2630</td>\n",
       "      <td>160</td>\n",
       "      <td>228</td>\n",
       "    </tr>\n",
       "    <tr>\n",
       "      <th>1</th>\n",
       "      <td>11504799</td>\n",
       "      <td>1</td>\n",
       "      <td>47</td>\n",
       "      <td>1</td>\n",
       "      <td>28</td>\n",
       "      <td>0</td>\n",
       "      <td>1-2 Year</td>\n",
       "      <td>1</td>\n",
       "      <td>37483</td>\n",
       "      <td>124</td>\n",
       "      <td>123</td>\n",
       "    </tr>\n",
       "    <tr>\n",
       "      <th>2</th>\n",
       "      <td>11504800</td>\n",
       "      <td>1</td>\n",
       "      <td>47</td>\n",
       "      <td>1</td>\n",
       "      <td>43</td>\n",
       "      <td>0</td>\n",
       "      <td>1-2 Year</td>\n",
       "      <td>1</td>\n",
       "      <td>2630</td>\n",
       "      <td>26</td>\n",
       "      <td>271</td>\n",
       "    </tr>\n",
       "    <tr>\n",
       "      <th>3</th>\n",
       "      <td>11504801</td>\n",
       "      <td>0</td>\n",
       "      <td>22</td>\n",
       "      <td>1</td>\n",
       "      <td>47</td>\n",
       "      <td>1</td>\n",
       "      <td>&lt; 1 Year</td>\n",
       "      <td>0</td>\n",
       "      <td>24502</td>\n",
       "      <td>152</td>\n",
       "      <td>115</td>\n",
       "    </tr>\n",
       "    <tr>\n",
       "      <th>4</th>\n",
       "      <td>11504802</td>\n",
       "      <td>1</td>\n",
       "      <td>51</td>\n",
       "      <td>1</td>\n",
       "      <td>19</td>\n",
       "      <td>0</td>\n",
       "      <td>1-2 Year</td>\n",
       "      <td>0</td>\n",
       "      <td>34115</td>\n",
       "      <td>124</td>\n",
       "      <td>148</td>\n",
       "    </tr>\n",
       "    <tr>\n",
       "      <th>...</th>\n",
       "      <td>...</td>\n",
       "      <td>...</td>\n",
       "      <td>...</td>\n",
       "      <td>...</td>\n",
       "      <td>...</td>\n",
       "      <td>...</td>\n",
       "      <td>...</td>\n",
       "      <td>...</td>\n",
       "      <td>...</td>\n",
       "      <td>...</td>\n",
       "      <td>...</td>\n",
       "    </tr>\n",
       "    <tr>\n",
       "      <th>7669861</th>\n",
       "      <td>19174659</td>\n",
       "      <td>1</td>\n",
       "      <td>57</td>\n",
       "      <td>1</td>\n",
       "      <td>28</td>\n",
       "      <td>0</td>\n",
       "      <td>1-2 Year</td>\n",
       "      <td>1</td>\n",
       "      <td>51661</td>\n",
       "      <td>124</td>\n",
       "      <td>109</td>\n",
       "    </tr>\n",
       "    <tr>\n",
       "      <th>7669862</th>\n",
       "      <td>19174660</td>\n",
       "      <td>1</td>\n",
       "      <td>28</td>\n",
       "      <td>1</td>\n",
       "      <td>50</td>\n",
       "      <td>1</td>\n",
       "      <td>&lt; 1 Year</td>\n",
       "      <td>0</td>\n",
       "      <td>25651</td>\n",
       "      <td>152</td>\n",
       "      <td>184</td>\n",
       "    </tr>\n",
       "    <tr>\n",
       "      <th>7669863</th>\n",
       "      <td>19174661</td>\n",
       "      <td>1</td>\n",
       "      <td>47</td>\n",
       "      <td>1</td>\n",
       "      <td>33</td>\n",
       "      <td>1</td>\n",
       "      <td>1-2 Year</td>\n",
       "      <td>0</td>\n",
       "      <td>2630</td>\n",
       "      <td>138</td>\n",
       "      <td>63</td>\n",
       "    </tr>\n",
       "    <tr>\n",
       "      <th>7669864</th>\n",
       "      <td>19174662</td>\n",
       "      <td>1</td>\n",
       "      <td>30</td>\n",
       "      <td>1</td>\n",
       "      <td>28</td>\n",
       "      <td>0</td>\n",
       "      <td>&lt; 1 Year</td>\n",
       "      <td>1</td>\n",
       "      <td>38866</td>\n",
       "      <td>124</td>\n",
       "      <td>119</td>\n",
       "    </tr>\n",
       "    <tr>\n",
       "      <th>7669865</th>\n",
       "      <td>19174663</td>\n",
       "      <td>1</td>\n",
       "      <td>23</td>\n",
       "      <td>1</td>\n",
       "      <td>46</td>\n",
       "      <td>1</td>\n",
       "      <td>&lt; 1 Year</td>\n",
       "      <td>0</td>\n",
       "      <td>27498</td>\n",
       "      <td>152</td>\n",
       "      <td>79</td>\n",
       "    </tr>\n",
       "  </tbody>\n",
       "</table>\n",
       "<p>7669866 rows × 11 columns</p>\n",
       "</div>"
      ],
      "text/plain": [
       "               id  Gender  Age  Driving_License  Region_Code  \\\n",
       "0        11504798       0   20                1           47   \n",
       "1        11504799       1   47                1           28   \n",
       "2        11504800       1   47                1           43   \n",
       "3        11504801       0   22                1           47   \n",
       "4        11504802       1   51                1           19   \n",
       "...           ...     ...  ...              ...          ...   \n",
       "7669861  19174659       1   57                1           28   \n",
       "7669862  19174660       1   28                1           50   \n",
       "7669863  19174661       1   47                1           33   \n",
       "7669864  19174662       1   30                1           28   \n",
       "7669865  19174663       1   23                1           46   \n",
       "\n",
       "         Previously_Insured Vehicle_Age  Vehicle_Damage  Annual_Premium  \\\n",
       "0                         0    < 1 Year               0            2630   \n",
       "1                         0    1-2 Year               1           37483   \n",
       "2                         0    1-2 Year               1            2630   \n",
       "3                         1    < 1 Year               0           24502   \n",
       "4                         0    1-2 Year               0           34115   \n",
       "...                     ...         ...             ...             ...   \n",
       "7669861                   0    1-2 Year               1           51661   \n",
       "7669862                   1    < 1 Year               0           25651   \n",
       "7669863                   1    1-2 Year               0            2630   \n",
       "7669864                   0    < 1 Year               1           38866   \n",
       "7669865                   1    < 1 Year               0           27498   \n",
       "\n",
       "         Policy_Sales_Channel  Vintage  \n",
       "0                         160      228  \n",
       "1                         124      123  \n",
       "2                          26      271  \n",
       "3                         152      115  \n",
       "4                         124      148  \n",
       "...                       ...      ...  \n",
       "7669861                   124      109  \n",
       "7669862                   152      184  \n",
       "7669863                   138       63  \n",
       "7669864                   124      119  \n",
       "7669865                   152       79  \n",
       "\n",
       "[7669866 rows x 11 columns]"
      ]
     },
     "execution_count": 23,
     "metadata": {},
     "output_type": "execute_result"
    }
   ],
   "source": [
    "test"
   ]
  },
  {
   "cell_type": "code",
   "execution_count": 24,
   "id": "4e833771",
   "metadata": {
    "execution": {
     "iopub.execute_input": "2024-07-08T14:38:54.698546Z",
     "iopub.status.busy": "2024-07-08T14:38:54.697828Z",
     "iopub.status.idle": "2024-07-08T14:38:54.750098Z",
     "shell.execute_reply": "2024-07-08T14:38:54.749203Z"
    },
    "papermill": {
     "duration": 0.069526,
     "end_time": "2024-07-08T14:38:54.752391",
     "exception": false,
     "start_time": "2024-07-08T14:38:54.682865",
     "status": "completed"
    },
    "tags": []
   },
   "outputs": [],
   "source": [
    "test['Vehicle_Damage'] = test['Vehicle_Damage'].astype(int)"
   ]
  },
  {
   "cell_type": "code",
   "execution_count": 25,
   "id": "18e2be2a",
   "metadata": {
    "execution": {
     "iopub.execute_input": "2024-07-08T14:38:54.782992Z",
     "iopub.status.busy": "2024-07-08T14:38:54.782710Z",
     "iopub.status.idle": "2024-07-08T14:38:55.549946Z",
     "shell.execute_reply": "2024-07-08T14:38:55.549038Z"
    },
    "papermill": {
     "duration": 0.78526,
     "end_time": "2024-07-08T14:38:55.552598",
     "exception": false,
     "start_time": "2024-07-08T14:38:54.767338",
     "status": "completed"
    },
    "tags": []
   },
   "outputs": [],
   "source": [
    "test['Vehicle_Age'] = test['Vehicle_Age'].map({'1-2 Year':1,'> 2 Years':2,'< 1 Year':0})"
   ]
  },
  {
   "cell_type": "code",
   "execution_count": 26,
   "id": "29867667",
   "metadata": {
    "execution": {
     "iopub.execute_input": "2024-07-08T14:38:55.586586Z",
     "iopub.status.busy": "2024-07-08T14:38:55.586262Z",
     "iopub.status.idle": "2024-07-08T14:38:55.852496Z",
     "shell.execute_reply": "2024-07-08T14:38:55.851633Z"
    },
    "papermill": {
     "duration": 0.285649,
     "end_time": "2024-07-08T14:38:55.854819",
     "exception": false,
     "start_time": "2024-07-08T14:38:55.569170",
     "status": "completed"
    },
    "tags": []
   },
   "outputs": [],
   "source": [
    "id = test['id']\n",
    "test = test.drop(columns=['id'])"
   ]
  },
  {
   "cell_type": "code",
   "execution_count": 27,
   "id": "4b46bb63",
   "metadata": {
    "execution": {
     "iopub.execute_input": "2024-07-08T14:38:55.885188Z",
     "iopub.status.busy": "2024-07-08T14:38:55.884854Z",
     "iopub.status.idle": "2024-07-08T14:38:56.458767Z",
     "shell.execute_reply": "2024-07-08T14:38:56.457964Z"
    },
    "papermill": {
     "duration": 0.591557,
     "end_time": "2024-07-08T14:38:56.461095",
     "exception": false,
     "start_time": "2024-07-08T14:38:55.869538",
     "status": "completed"
    },
    "tags": []
   },
   "outputs": [],
   "source": [
    "from sklearn.preprocessing import StandardScaler\n",
    "\n",
    "# Initialize and apply the scaler\n",
    "scaler = StandardScaler()\n",
    "x_train_scaled = scaler.fit_transform(x_train)\n",
    "x_val_scaled = scaler.transform(x_val)\n"
   ]
  },
  {
   "cell_type": "markdown",
   "id": "367c68da",
   "metadata": {
    "papermill": {
     "duration": 0.014444,
     "end_time": "2024-07-08T14:38:56.490405",
     "exception": false,
     "start_time": "2024-07-08T14:38:56.475961",
     "status": "completed"
    },
    "tags": []
   },
   "source": [
    "# Model"
   ]
  },
  {
   "cell_type": "markdown",
   "id": "bc459b0a",
   "metadata": {
    "papermill": {
     "duration": 0.014298,
     "end_time": "2024-07-08T14:38:56.519014",
     "exception": false,
     "start_time": "2024-07-08T14:38:56.504716",
     "status": "completed"
    },
    "tags": []
   },
   "source": [
    "- Thanks to RIZA TEMIZEL ( i learned alot from your notebook ) "
   ]
  },
  {
   "cell_type": "code",
   "execution_count": 28,
   "id": "2bbd9b53",
   "metadata": {
    "execution": {
     "iopub.execute_input": "2024-07-08T14:38:56.548614Z",
     "iopub.status.busy": "2024-07-08T14:38:56.548303Z",
     "iopub.status.idle": "2024-07-08T14:38:56.857023Z",
     "shell.execute_reply": "2024-07-08T14:38:56.856236Z"
    },
    "papermill": {
     "duration": 0.326124,
     "end_time": "2024-07-08T14:38:56.859386",
     "exception": false,
     "start_time": "2024-07-08T14:38:56.533262",
     "status": "completed"
    },
    "tags": []
   },
   "outputs": [],
   "source": [
    "import optuna\n",
    "import xgboost as xgb\n",
    "from xgboost import XGBClassifier\n",
    "from sklearn.metrics import accuracy_score\n",
    "from sklearn.model_selection import train_test_split\n",
    "from sklearn.preprocessing import StandardScaler\n",
    "num_classes = len(np.unique(np.concatenate([y_train, y_val])))"
   ]
  },
  {
   "cell_type": "code",
   "execution_count": 29,
   "id": "3dfe32c6",
   "metadata": {
    "execution": {
     "iopub.execute_input": "2024-07-08T14:38:56.889244Z",
     "iopub.status.busy": "2024-07-08T14:38:56.888946Z",
     "iopub.status.idle": "2024-07-08T14:38:56.893445Z",
     "shell.execute_reply": "2024-07-08T14:38:56.892617Z"
    },
    "papermill": {
     "duration": 0.021354,
     "end_time": "2024-07-08T14:38:56.895339",
     "exception": false,
     "start_time": "2024-07-08T14:38:56.873985",
     "status": "completed"
    },
    "tags": []
   },
   "outputs": [],
   "source": [
    "model = XGBClassifier(use_label_encoder=False, \n",
    "                      eval_metric= 'auc', \n",
    "                      early_stopping_rounds=50, \n",
    "                      n_estimators=10000,\n",
    "                     verbose = 200)"
   ]
  },
  {
   "cell_type": "code",
   "execution_count": 30,
   "id": "e689993e",
   "metadata": {
    "execution": {
     "iopub.execute_input": "2024-07-08T14:38:56.927480Z",
     "iopub.status.busy": "2024-07-08T14:38:56.926250Z",
     "iopub.status.idle": "2024-07-08T14:40:01.509078Z",
     "shell.execute_reply": "2024-07-08T14:40:01.508347Z"
    },
    "papermill": {
     "duration": 64.6007,
     "end_time": "2024-07-08T14:40:01.511152",
     "exception": false,
     "start_time": "2024-07-08T14:38:56.910452",
     "status": "completed"
    },
    "tags": []
   },
   "outputs": [
    {
     "name": "stderr",
     "output_type": "stream",
     "text": [
      "/opt/conda/lib/python3.10/site-packages/xgboost/core.py:160: UserWarning: [14:38:58] WARNING: /workspace/src/learner.cc:742: \n",
      "Parameters: { \"verbose\" } are not used.\n",
      "\n",
      "  warnings.warn(smsg, UserWarning)\n"
     ]
    },
    {
     "name": "stdout",
     "output_type": "stream",
     "text": [
      "[0]\tvalidation_0-auc:0.84799\n",
      "[1]\tvalidation_0-auc:0.85158\n",
      "[2]\tvalidation_0-auc:0.85221\n",
      "[3]\tvalidation_0-auc:0.85371\n",
      "[4]\tvalidation_0-auc:0.85480\n",
      "[5]\tvalidation_0-auc:0.85556\n",
      "[6]\tvalidation_0-auc:0.85919\n",
      "[7]\tvalidation_0-auc:0.86094\n",
      "[8]\tvalidation_0-auc:0.86280\n",
      "[9]\tvalidation_0-auc:0.86344\n",
      "[10]\tvalidation_0-auc:0.86419\n",
      "[11]\tvalidation_0-auc:0.86480\n",
      "[12]\tvalidation_0-auc:0.86505\n",
      "[13]\tvalidation_0-auc:0.86702\n",
      "[14]\tvalidation_0-auc:0.86720\n",
      "[15]\tvalidation_0-auc:0.86747\n",
      "[16]\tvalidation_0-auc:0.86869\n",
      "[17]\tvalidation_0-auc:0.86893\n",
      "[18]\tvalidation_0-auc:0.86911\n",
      "[19]\tvalidation_0-auc:0.86932\n",
      "[20]\tvalidation_0-auc:0.87108\n",
      "[21]\tvalidation_0-auc:0.87149\n",
      "[22]\tvalidation_0-auc:0.87172\n",
      "[23]\tvalidation_0-auc:0.87183\n",
      "[24]\tvalidation_0-auc:0.87213\n",
      "[25]\tvalidation_0-auc:0.87273\n",
      "[26]\tvalidation_0-auc:0.87325\n",
      "[27]\tvalidation_0-auc:0.87337\n",
      "[28]\tvalidation_0-auc:0.87359\n",
      "[29]\tvalidation_0-auc:0.87363\n",
      "[30]\tvalidation_0-auc:0.87381\n",
      "[31]\tvalidation_0-auc:0.87399\n",
      "[32]\tvalidation_0-auc:0.87414\n",
      "[33]\tvalidation_0-auc:0.87434\n",
      "[34]\tvalidation_0-auc:0.87492\n",
      "[35]\tvalidation_0-auc:0.87516\n",
      "[36]\tvalidation_0-auc:0.87525\n",
      "[37]\tvalidation_0-auc:0.87532\n",
      "[38]\tvalidation_0-auc:0.87547\n",
      "[39]\tvalidation_0-auc:0.87556\n",
      "[40]\tvalidation_0-auc:0.87572\n",
      "[41]\tvalidation_0-auc:0.87573\n",
      "[42]\tvalidation_0-auc:0.87580\n",
      "[43]\tvalidation_0-auc:0.87607\n",
      "[44]\tvalidation_0-auc:0.87652\n",
      "[45]\tvalidation_0-auc:0.87655\n",
      "[46]\tvalidation_0-auc:0.87660\n",
      "[47]\tvalidation_0-auc:0.87665\n",
      "[48]\tvalidation_0-auc:0.87667\n",
      "[49]\tvalidation_0-auc:0.87671\n",
      "[50]\tvalidation_0-auc:0.87678\n",
      "[51]\tvalidation_0-auc:0.87685\n",
      "[52]\tvalidation_0-auc:0.87697\n",
      "[53]\tvalidation_0-auc:0.87706\n",
      "[54]\tvalidation_0-auc:0.87715\n",
      "[55]\tvalidation_0-auc:0.87729\n",
      "[56]\tvalidation_0-auc:0.87733\n",
      "[57]\tvalidation_0-auc:0.87736\n",
      "[58]\tvalidation_0-auc:0.87746\n",
      "[59]\tvalidation_0-auc:0.87748\n",
      "[60]\tvalidation_0-auc:0.87766\n",
      "[61]\tvalidation_0-auc:0.87772\n",
      "[62]\tvalidation_0-auc:0.87776\n",
      "[63]\tvalidation_0-auc:0.87783\n",
      "[64]\tvalidation_0-auc:0.87797\n",
      "[65]\tvalidation_0-auc:0.87797\n",
      "[66]\tvalidation_0-auc:0.87800\n",
      "[67]\tvalidation_0-auc:0.87802\n",
      "[68]\tvalidation_0-auc:0.87812\n",
      "[69]\tvalidation_0-auc:0.87813\n",
      "[70]\tvalidation_0-auc:0.87814\n",
      "[71]\tvalidation_0-auc:0.87818\n",
      "[72]\tvalidation_0-auc:0.87826\n",
      "[73]\tvalidation_0-auc:0.87827\n",
      "[74]\tvalidation_0-auc:0.87828\n",
      "[75]\tvalidation_0-auc:0.87834\n",
      "[76]\tvalidation_0-auc:0.87842\n",
      "[77]\tvalidation_0-auc:0.87846\n",
      "[78]\tvalidation_0-auc:0.87852\n",
      "[79]\tvalidation_0-auc:0.87852\n",
      "[80]\tvalidation_0-auc:0.87855\n",
      "[81]\tvalidation_0-auc:0.87859\n",
      "[82]\tvalidation_0-auc:0.87863\n",
      "[83]\tvalidation_0-auc:0.87865\n",
      "[84]\tvalidation_0-auc:0.87867\n",
      "[85]\tvalidation_0-auc:0.87868\n",
      "[86]\tvalidation_0-auc:0.87869\n",
      "[87]\tvalidation_0-auc:0.87872\n",
      "[88]\tvalidation_0-auc:0.87873\n",
      "[89]\tvalidation_0-auc:0.87879\n",
      "[90]\tvalidation_0-auc:0.87879\n",
      "[91]\tvalidation_0-auc:0.87879\n",
      "[92]\tvalidation_0-auc:0.87880\n",
      "[93]\tvalidation_0-auc:0.87880\n",
      "[94]\tvalidation_0-auc:0.87892\n",
      "[95]\tvalidation_0-auc:0.87894\n",
      "[96]\tvalidation_0-auc:0.87895\n",
      "[97]\tvalidation_0-auc:0.87897\n",
      "[98]\tvalidation_0-auc:0.87898\n",
      "[99]\tvalidation_0-auc:0.87902\n",
      "[100]\tvalidation_0-auc:0.87909\n",
      "[101]\tvalidation_0-auc:0.87912\n",
      "[102]\tvalidation_0-auc:0.87913\n",
      "[103]\tvalidation_0-auc:0.87915\n",
      "[104]\tvalidation_0-auc:0.87917\n",
      "[105]\tvalidation_0-auc:0.87920\n",
      "[106]\tvalidation_0-auc:0.87922\n",
      "[107]\tvalidation_0-auc:0.87923\n",
      "[108]\tvalidation_0-auc:0.87925\n",
      "[109]\tvalidation_0-auc:0.87925\n",
      "[110]\tvalidation_0-auc:0.87925\n",
      "[111]\tvalidation_0-auc:0.87929\n",
      "[112]\tvalidation_0-auc:0.87929\n",
      "[113]\tvalidation_0-auc:0.87929\n",
      "[114]\tvalidation_0-auc:0.87929\n",
      "[115]\tvalidation_0-auc:0.87930\n",
      "[116]\tvalidation_0-auc:0.87931\n",
      "[117]\tvalidation_0-auc:0.87932\n",
      "[118]\tvalidation_0-auc:0.87933\n",
      "[119]\tvalidation_0-auc:0.87933\n",
      "[120]\tvalidation_0-auc:0.87934\n",
      "[121]\tvalidation_0-auc:0.87933\n",
      "[122]\tvalidation_0-auc:0.87936\n",
      "[123]\tvalidation_0-auc:0.87939\n",
      "[124]\tvalidation_0-auc:0.87941\n",
      "[125]\tvalidation_0-auc:0.87941\n",
      "[126]\tvalidation_0-auc:0.87945\n",
      "[127]\tvalidation_0-auc:0.87946\n",
      "[128]\tvalidation_0-auc:0.87946\n",
      "[129]\tvalidation_0-auc:0.87946\n",
      "[130]\tvalidation_0-auc:0.87946\n",
      "[131]\tvalidation_0-auc:0.87946\n",
      "[132]\tvalidation_0-auc:0.87946\n",
      "[133]\tvalidation_0-auc:0.87946\n",
      "[134]\tvalidation_0-auc:0.87948\n",
      "[135]\tvalidation_0-auc:0.87950\n",
      "[136]\tvalidation_0-auc:0.87955\n",
      "[137]\tvalidation_0-auc:0.87958\n",
      "[138]\tvalidation_0-auc:0.87959\n",
      "[139]\tvalidation_0-auc:0.87960\n",
      "[140]\tvalidation_0-auc:0.87961\n",
      "[141]\tvalidation_0-auc:0.87963\n",
      "[142]\tvalidation_0-auc:0.87965\n",
      "[143]\tvalidation_0-auc:0.87966\n",
      "[144]\tvalidation_0-auc:0.87967\n",
      "[145]\tvalidation_0-auc:0.87969\n",
      "[146]\tvalidation_0-auc:0.87973\n",
      "[147]\tvalidation_0-auc:0.87974\n",
      "[148]\tvalidation_0-auc:0.87975\n",
      "[149]\tvalidation_0-auc:0.87977\n",
      "[150]\tvalidation_0-auc:0.87976\n",
      "[151]\tvalidation_0-auc:0.87977\n",
      "[152]\tvalidation_0-auc:0.87977\n",
      "[153]\tvalidation_0-auc:0.87977\n",
      "[154]\tvalidation_0-auc:0.87978\n",
      "[155]\tvalidation_0-auc:0.87980\n",
      "[156]\tvalidation_0-auc:0.87981\n",
      "[157]\tvalidation_0-auc:0.87980\n",
      "[158]\tvalidation_0-auc:0.87983\n",
      "[159]\tvalidation_0-auc:0.87985\n",
      "[160]\tvalidation_0-auc:0.87987\n",
      "[161]\tvalidation_0-auc:0.87988\n",
      "[162]\tvalidation_0-auc:0.87988\n",
      "[163]\tvalidation_0-auc:0.87988\n",
      "[164]\tvalidation_0-auc:0.87989\n",
      "[165]\tvalidation_0-auc:0.87989\n",
      "[166]\tvalidation_0-auc:0.87989\n",
      "[167]\tvalidation_0-auc:0.87989\n",
      "[168]\tvalidation_0-auc:0.87988\n",
      "[169]\tvalidation_0-auc:0.87989\n",
      "[170]\tvalidation_0-auc:0.87990\n",
      "[171]\tvalidation_0-auc:0.87990\n",
      "[172]\tvalidation_0-auc:0.87990\n",
      "[173]\tvalidation_0-auc:0.87991\n",
      "[174]\tvalidation_0-auc:0.87991\n",
      "[175]\tvalidation_0-auc:0.87990\n",
      "[176]\tvalidation_0-auc:0.87991\n",
      "[177]\tvalidation_0-auc:0.87991\n",
      "[178]\tvalidation_0-auc:0.87992\n",
      "[179]\tvalidation_0-auc:0.87993\n",
      "[180]\tvalidation_0-auc:0.87992\n",
      "[181]\tvalidation_0-auc:0.87993\n",
      "[182]\tvalidation_0-auc:0.87992\n",
      "[183]\tvalidation_0-auc:0.87992\n",
      "[184]\tvalidation_0-auc:0.87993\n",
      "[185]\tvalidation_0-auc:0.87993\n",
      "[186]\tvalidation_0-auc:0.87995\n",
      "[187]\tvalidation_0-auc:0.87995\n",
      "[188]\tvalidation_0-auc:0.87995\n",
      "[189]\tvalidation_0-auc:0.87996\n",
      "[190]\tvalidation_0-auc:0.87997\n",
      "[191]\tvalidation_0-auc:0.87997\n",
      "[192]\tvalidation_0-auc:0.87998\n",
      "[193]\tvalidation_0-auc:0.87998\n",
      "[194]\tvalidation_0-auc:0.87999\n",
      "[195]\tvalidation_0-auc:0.87999\n",
      "[196]\tvalidation_0-auc:0.88000\n",
      "[197]\tvalidation_0-auc:0.88001\n",
      "[198]\tvalidation_0-auc:0.88001\n",
      "[199]\tvalidation_0-auc:0.88001\n",
      "[200]\tvalidation_0-auc:0.88000\n",
      "[201]\tvalidation_0-auc:0.88000\n",
      "[202]\tvalidation_0-auc:0.88001\n",
      "[203]\tvalidation_0-auc:0.88002\n",
      "[204]\tvalidation_0-auc:0.88002\n",
      "[205]\tvalidation_0-auc:0.88002\n",
      "[206]\tvalidation_0-auc:0.88002\n",
      "[207]\tvalidation_0-auc:0.88002\n",
      "[208]\tvalidation_0-auc:0.88004\n",
      "[209]\tvalidation_0-auc:0.88004\n",
      "[210]\tvalidation_0-auc:0.88004\n",
      "[211]\tvalidation_0-auc:0.88004\n",
      "[212]\tvalidation_0-auc:0.88005\n",
      "[213]\tvalidation_0-auc:0.88005\n",
      "[214]\tvalidation_0-auc:0.88006\n",
      "[215]\tvalidation_0-auc:0.88006\n",
      "[216]\tvalidation_0-auc:0.88006\n",
      "[217]\tvalidation_0-auc:0.88007\n",
      "[218]\tvalidation_0-auc:0.88008\n",
      "[219]\tvalidation_0-auc:0.88008\n",
      "[220]\tvalidation_0-auc:0.88008\n",
      "[221]\tvalidation_0-auc:0.88007\n",
      "[222]\tvalidation_0-auc:0.88007\n",
      "[223]\tvalidation_0-auc:0.88007\n",
      "[224]\tvalidation_0-auc:0.88007\n",
      "[225]\tvalidation_0-auc:0.88007\n",
      "[226]\tvalidation_0-auc:0.88007\n",
      "[227]\tvalidation_0-auc:0.88008\n",
      "[228]\tvalidation_0-auc:0.88009\n",
      "[229]\tvalidation_0-auc:0.88010\n",
      "[230]\tvalidation_0-auc:0.88011\n",
      "[231]\tvalidation_0-auc:0.88011\n",
      "[232]\tvalidation_0-auc:0.88011\n",
      "[233]\tvalidation_0-auc:0.88011\n",
      "[234]\tvalidation_0-auc:0.88012\n",
      "[235]\tvalidation_0-auc:0.88012\n",
      "[236]\tvalidation_0-auc:0.88012\n",
      "[237]\tvalidation_0-auc:0.88012\n",
      "[238]\tvalidation_0-auc:0.88012\n",
      "[239]\tvalidation_0-auc:0.88012\n",
      "[240]\tvalidation_0-auc:0.88013\n",
      "[241]\tvalidation_0-auc:0.88013\n",
      "[242]\tvalidation_0-auc:0.88013\n",
      "[243]\tvalidation_0-auc:0.88013\n",
      "[244]\tvalidation_0-auc:0.88013\n",
      "[245]\tvalidation_0-auc:0.88013\n",
      "[246]\tvalidation_0-auc:0.88013\n",
      "[247]\tvalidation_0-auc:0.88012\n",
      "[248]\tvalidation_0-auc:0.88012\n",
      "[249]\tvalidation_0-auc:0.88013\n",
      "[250]\tvalidation_0-auc:0.88013\n",
      "[251]\tvalidation_0-auc:0.88013\n",
      "[252]\tvalidation_0-auc:0.88013\n",
      "[253]\tvalidation_0-auc:0.88013\n",
      "[254]\tvalidation_0-auc:0.88013\n",
      "[255]\tvalidation_0-auc:0.88012\n",
      "[256]\tvalidation_0-auc:0.88012\n",
      "[257]\tvalidation_0-auc:0.88013\n",
      "[258]\tvalidation_0-auc:0.88013\n",
      "[259]\tvalidation_0-auc:0.88014\n",
      "[260]\tvalidation_0-auc:0.88014\n",
      "[261]\tvalidation_0-auc:0.88015\n",
      "[262]\tvalidation_0-auc:0.88014\n",
      "[263]\tvalidation_0-auc:0.88014\n",
      "[264]\tvalidation_0-auc:0.88015\n",
      "[265]\tvalidation_0-auc:0.88016\n",
      "[266]\tvalidation_0-auc:0.88016\n",
      "[267]\tvalidation_0-auc:0.88016\n",
      "[268]\tvalidation_0-auc:0.88016\n",
      "[269]\tvalidation_0-auc:0.88016\n",
      "[270]\tvalidation_0-auc:0.88017\n",
      "[271]\tvalidation_0-auc:0.88017\n",
      "[272]\tvalidation_0-auc:0.88016\n",
      "[273]\tvalidation_0-auc:0.88017\n",
      "[274]\tvalidation_0-auc:0.88017\n",
      "[275]\tvalidation_0-auc:0.88018\n",
      "[276]\tvalidation_0-auc:0.88019\n",
      "[277]\tvalidation_0-auc:0.88019\n",
      "[278]\tvalidation_0-auc:0.88019\n",
      "[279]\tvalidation_0-auc:0.88020\n",
      "[280]\tvalidation_0-auc:0.88019\n",
      "[281]\tvalidation_0-auc:0.88019\n",
      "[282]\tvalidation_0-auc:0.88020\n",
      "[283]\tvalidation_0-auc:0.88020\n",
      "[284]\tvalidation_0-auc:0.88020\n",
      "[285]\tvalidation_0-auc:0.88020\n",
      "[286]\tvalidation_0-auc:0.88021\n",
      "[287]\tvalidation_0-auc:0.88021\n",
      "[288]\tvalidation_0-auc:0.88021\n",
      "[289]\tvalidation_0-auc:0.88022\n",
      "[290]\tvalidation_0-auc:0.88022\n",
      "[291]\tvalidation_0-auc:0.88021\n",
      "[292]\tvalidation_0-auc:0.88021\n",
      "[293]\tvalidation_0-auc:0.88022\n",
      "[294]\tvalidation_0-auc:0.88022\n",
      "[295]\tvalidation_0-auc:0.88022\n",
      "[296]\tvalidation_0-auc:0.88021\n",
      "[297]\tvalidation_0-auc:0.88022\n",
      "[298]\tvalidation_0-auc:0.88022\n",
      "[299]\tvalidation_0-auc:0.88022\n",
      "[300]\tvalidation_0-auc:0.88022\n",
      "[301]\tvalidation_0-auc:0.88021\n",
      "[302]\tvalidation_0-auc:0.88021\n",
      "[303]\tvalidation_0-auc:0.88022\n",
      "[304]\tvalidation_0-auc:0.88022\n",
      "[305]\tvalidation_0-auc:0.88021\n",
      "[306]\tvalidation_0-auc:0.88021\n",
      "[307]\tvalidation_0-auc:0.88021\n",
      "[308]\tvalidation_0-auc:0.88021\n",
      "[309]\tvalidation_0-auc:0.88021\n",
      "[310]\tvalidation_0-auc:0.88020\n",
      "[311]\tvalidation_0-auc:0.88020\n",
      "[312]\tvalidation_0-auc:0.88020\n",
      "[313]\tvalidation_0-auc:0.88019\n",
      "[314]\tvalidation_0-auc:0.88020\n",
      "[315]\tvalidation_0-auc:0.88020\n",
      "[316]\tvalidation_0-auc:0.88020\n",
      "[317]\tvalidation_0-auc:0.88019\n",
      "[318]\tvalidation_0-auc:0.88019\n",
      "[319]\tvalidation_0-auc:0.88019\n",
      "[320]\tvalidation_0-auc:0.88020\n",
      "[321]\tvalidation_0-auc:0.88020\n",
      "[322]\tvalidation_0-auc:0.88019\n",
      "[323]\tvalidation_0-auc:0.88019\n",
      "[324]\tvalidation_0-auc:0.88019\n",
      "[325]\tvalidation_0-auc:0.88018\n",
      "[326]\tvalidation_0-auc:0.88019\n",
      "[327]\tvalidation_0-auc:0.88019\n",
      "[328]\tvalidation_0-auc:0.88019\n",
      "[329]\tvalidation_0-auc:0.88019\n",
      "[330]\tvalidation_0-auc:0.88019\n",
      "[331]\tvalidation_0-auc:0.88019\n",
      "[332]\tvalidation_0-auc:0.88018\n",
      "[333]\tvalidation_0-auc:0.88019\n",
      "[334]\tvalidation_0-auc:0.88019\n",
      "[335]\tvalidation_0-auc:0.88019\n",
      "[336]\tvalidation_0-auc:0.88019\n",
      "[337]\tvalidation_0-auc:0.88018\n",
      "[338]\tvalidation_0-auc:0.88019\n",
      "[339]\tvalidation_0-auc:0.88019\n",
      "[340]\tvalidation_0-auc:0.88019\n",
      "[341]\tvalidation_0-auc:0.88018\n",
      "[342]\tvalidation_0-auc:0.88018\n",
      "[343]\tvalidation_0-auc:0.88018\n",
      "[344]\tvalidation_0-auc:0.88018\n",
      "[345]\tvalidation_0-auc:0.88018\n",
      "[346]\tvalidation_0-auc:0.88018\n",
      "[347]\tvalidation_0-auc:0.88018\n",
      "[348]\tvalidation_0-auc:0.88018\n",
      "[349]\tvalidation_0-auc:0.88017\n"
     ]
    },
    {
     "data": {
      "text/html": [
       "<style>#sk-container-id-1 {color: black;background-color: white;}#sk-container-id-1 pre{padding: 0;}#sk-container-id-1 div.sk-toggleable {background-color: white;}#sk-container-id-1 label.sk-toggleable__label {cursor: pointer;display: block;width: 100%;margin-bottom: 0;padding: 0.3em;box-sizing: border-box;text-align: center;}#sk-container-id-1 label.sk-toggleable__label-arrow:before {content: \"▸\";float: left;margin-right: 0.25em;color: #696969;}#sk-container-id-1 label.sk-toggleable__label-arrow:hover:before {color: black;}#sk-container-id-1 div.sk-estimator:hover label.sk-toggleable__label-arrow:before {color: black;}#sk-container-id-1 div.sk-toggleable__content {max-height: 0;max-width: 0;overflow: hidden;text-align: left;background-color: #f0f8ff;}#sk-container-id-1 div.sk-toggleable__content pre {margin: 0.2em;color: black;border-radius: 0.25em;background-color: #f0f8ff;}#sk-container-id-1 input.sk-toggleable__control:checked~div.sk-toggleable__content {max-height: 200px;max-width: 100%;overflow: auto;}#sk-container-id-1 input.sk-toggleable__control:checked~label.sk-toggleable__label-arrow:before {content: \"▾\";}#sk-container-id-1 div.sk-estimator input.sk-toggleable__control:checked~label.sk-toggleable__label {background-color: #d4ebff;}#sk-container-id-1 div.sk-label input.sk-toggleable__control:checked~label.sk-toggleable__label {background-color: #d4ebff;}#sk-container-id-1 input.sk-hidden--visually {border: 0;clip: rect(1px 1px 1px 1px);clip: rect(1px, 1px, 1px, 1px);height: 1px;margin: -1px;overflow: hidden;padding: 0;position: absolute;width: 1px;}#sk-container-id-1 div.sk-estimator {font-family: monospace;background-color: #f0f8ff;border: 1px dotted black;border-radius: 0.25em;box-sizing: border-box;margin-bottom: 0.5em;}#sk-container-id-1 div.sk-estimator:hover {background-color: #d4ebff;}#sk-container-id-1 div.sk-parallel-item::after {content: \"\";width: 100%;border-bottom: 1px solid gray;flex-grow: 1;}#sk-container-id-1 div.sk-label:hover label.sk-toggleable__label {background-color: #d4ebff;}#sk-container-id-1 div.sk-serial::before {content: \"\";position: absolute;border-left: 1px solid gray;box-sizing: border-box;top: 0;bottom: 0;left: 50%;z-index: 0;}#sk-container-id-1 div.sk-serial {display: flex;flex-direction: column;align-items: center;background-color: white;padding-right: 0.2em;padding-left: 0.2em;position: relative;}#sk-container-id-1 div.sk-item {position: relative;z-index: 1;}#sk-container-id-1 div.sk-parallel {display: flex;align-items: stretch;justify-content: center;background-color: white;position: relative;}#sk-container-id-1 div.sk-item::before, #sk-container-id-1 div.sk-parallel-item::before {content: \"\";position: absolute;border-left: 1px solid gray;box-sizing: border-box;top: 0;bottom: 0;left: 50%;z-index: -1;}#sk-container-id-1 div.sk-parallel-item {display: flex;flex-direction: column;z-index: 1;position: relative;background-color: white;}#sk-container-id-1 div.sk-parallel-item:first-child::after {align-self: flex-end;width: 50%;}#sk-container-id-1 div.sk-parallel-item:last-child::after {align-self: flex-start;width: 50%;}#sk-container-id-1 div.sk-parallel-item:only-child::after {width: 0;}#sk-container-id-1 div.sk-dashed-wrapped {border: 1px dashed gray;margin: 0 0.4em 0.5em 0.4em;box-sizing: border-box;padding-bottom: 0.4em;background-color: white;}#sk-container-id-1 div.sk-label label {font-family: monospace;font-weight: bold;display: inline-block;line-height: 1.2em;}#sk-container-id-1 div.sk-label-container {text-align: center;}#sk-container-id-1 div.sk-container {/* jupyter's `normalize.less` sets `[hidden] { display: none; }` but bootstrap.min.css set `[hidden] { display: none !important; }` so we also need the `!important` here to be able to override the default hidden behavior on the sphinx rendered scikit-learn.org. See: https://github.com/scikit-learn/scikit-learn/issues/21755 */display: inline-block !important;position: relative;}#sk-container-id-1 div.sk-text-repr-fallback {display: none;}</style><div id=\"sk-container-id-1\" class=\"sk-top-container\"><div class=\"sk-text-repr-fallback\"><pre>XGBClassifier(base_score=None, booster=None, callbacks=None,\n",
       "              colsample_bylevel=None, colsample_bynode=None,\n",
       "              colsample_bytree=None, device=None, early_stopping_rounds=50,\n",
       "              enable_categorical=False, eval_metric=&#x27;auc&#x27;, feature_types=None,\n",
       "              gamma=None, grow_policy=None, importance_type=None,\n",
       "              interaction_constraints=None, learning_rate=None, max_bin=None,\n",
       "              max_cat_threshold=None, max_cat_to_onehot=None,\n",
       "              max_delta_step=None, max_depth=None, max_leaves=None,\n",
       "              min_child_weight=None, missing=nan, monotone_constraints=None,\n",
       "              multi_strategy=None, n_estimators=10000, n_jobs=None,\n",
       "              num_parallel_tree=None, random_state=None, ...)</pre><b>In a Jupyter environment, please rerun this cell to show the HTML representation or trust the notebook. <br />On GitHub, the HTML representation is unable to render, please try loading this page with nbviewer.org.</b></div><div class=\"sk-container\" hidden><div class=\"sk-item\"><div class=\"sk-estimator sk-toggleable\"><input class=\"sk-toggleable__control sk-hidden--visually\" id=\"sk-estimator-id-1\" type=\"checkbox\" checked><label for=\"sk-estimator-id-1\" class=\"sk-toggleable__label sk-toggleable__label-arrow\">XGBClassifier</label><div class=\"sk-toggleable__content\"><pre>XGBClassifier(base_score=None, booster=None, callbacks=None,\n",
       "              colsample_bylevel=None, colsample_bynode=None,\n",
       "              colsample_bytree=None, device=None, early_stopping_rounds=50,\n",
       "              enable_categorical=False, eval_metric=&#x27;auc&#x27;, feature_types=None,\n",
       "              gamma=None, grow_policy=None, importance_type=None,\n",
       "              interaction_constraints=None, learning_rate=None, max_bin=None,\n",
       "              max_cat_threshold=None, max_cat_to_onehot=None,\n",
       "              max_delta_step=None, max_depth=None, max_leaves=None,\n",
       "              min_child_weight=None, missing=nan, monotone_constraints=None,\n",
       "              multi_strategy=None, n_estimators=10000, n_jobs=None,\n",
       "              num_parallel_tree=None, random_state=None, ...)</pre></div></div></div></div></div>"
      ],
      "text/plain": [
       "XGBClassifier(base_score=None, booster=None, callbacks=None,\n",
       "              colsample_bylevel=None, colsample_bynode=None,\n",
       "              colsample_bytree=None, device=None, early_stopping_rounds=50,\n",
       "              enable_categorical=False, eval_metric='auc', feature_types=None,\n",
       "              gamma=None, grow_policy=None, importance_type=None,\n",
       "              interaction_constraints=None, learning_rate=None, max_bin=None,\n",
       "              max_cat_threshold=None, max_cat_to_onehot=None,\n",
       "              max_delta_step=None, max_depth=None, max_leaves=None,\n",
       "              min_child_weight=None, missing=nan, monotone_constraints=None,\n",
       "              multi_strategy=None, n_estimators=10000, n_jobs=None,\n",
       "              num_parallel_tree=None, random_state=None, ...)"
      ]
     },
     "execution_count": 30,
     "metadata": {},
     "output_type": "execute_result"
    }
   ],
   "source": [
    "model.fit(x_train, y_train, eval_set=[(x_val, y_val)], verbose=True)"
   ]
  },
  {
   "cell_type": "code",
   "execution_count": 31,
   "id": "37f4de9b",
   "metadata": {
    "execution": {
     "iopub.execute_input": "2024-07-08T14:40:01.595019Z",
     "iopub.status.busy": "2024-07-08T14:40:01.594345Z",
     "iopub.status.idle": "2024-07-08T14:40:03.065626Z",
     "shell.execute_reply": "2024-07-08T14:40:03.064574Z"
    },
    "papermill": {
     "duration": 1.515191,
     "end_time": "2024-07-08T14:40:03.067755",
     "exception": false,
     "start_time": "2024-07-08T14:40:01.552564",
     "status": "completed"
    },
    "tags": []
   },
   "outputs": [
    {
     "name": "stdout",
     "output_type": "stream",
     "text": [
      "Validation AUC: 0.88022\n"
     ]
    }
   ],
   "source": [
    "from sklearn.metrics import roc_auc_score\n",
    "booster = model.get_booster()\n",
    "y_pred_prob = booster.predict(xgb.DMatrix(x_val, enable_categorical=True), iteration_range=(0, model.best_iteration + 1))\n",
    "auc = roc_auc_score(y_val, y_pred_prob)\n",
    "print(f\"Validation AUC: {auc:.5f}\")"
   ]
  },
  {
   "cell_type": "code",
   "execution_count": 32,
   "id": "87c495e5",
   "metadata": {
    "execution": {
     "iopub.execute_input": "2024-07-08T14:40:03.152022Z",
     "iopub.status.busy": "2024-07-08T14:40:03.151695Z",
     "iopub.status.idle": "2024-07-08T14:40:21.323980Z",
     "shell.execute_reply": "2024-07-08T14:40:21.323043Z"
    },
    "papermill": {
     "duration": 18.21683,
     "end_time": "2024-07-08T14:40:21.326429",
     "exception": false,
     "start_time": "2024-07-08T14:40:03.109599",
     "status": "completed"
    },
    "tags": []
   },
   "outputs": [],
   "source": [
    "prediction = model.predict(test)"
   ]
  },
  {
   "cell_type": "code",
   "execution_count": 33,
   "id": "d22d7dc3",
   "metadata": {
    "execution": {
     "iopub.execute_input": "2024-07-08T14:40:21.412937Z",
     "iopub.status.busy": "2024-07-08T14:40:21.412616Z",
     "iopub.status.idle": "2024-07-08T14:40:21.449437Z",
     "shell.execute_reply": "2024-07-08T14:40:21.448424Z"
    },
    "papermill": {
     "duration": 0.083581,
     "end_time": "2024-07-08T14:40:21.451547",
     "exception": false,
     "start_time": "2024-07-08T14:40:21.367966",
     "status": "completed"
    },
    "tags": []
   },
   "outputs": [
    {
     "name": "stdout",
     "output_type": "stream",
     "text": [
      "[0 1]\n"
     ]
    }
   ],
   "source": [
    "print(np.unique(prediction))"
   ]
  },
  {
   "cell_type": "code",
   "execution_count": 34,
   "id": "ba7d6c67",
   "metadata": {
    "execution": {
     "iopub.execute_input": "2024-07-08T14:40:21.535869Z",
     "iopub.status.busy": "2024-07-08T14:40:21.535545Z",
     "iopub.status.idle": "2024-07-08T14:40:21.541347Z",
     "shell.execute_reply": "2024-07-08T14:40:21.540457Z"
    },
    "papermill": {
     "duration": 0.049667,
     "end_time": "2024-07-08T14:40:21.543097",
     "exception": false,
     "start_time": "2024-07-08T14:40:21.493430",
     "status": "completed"
    },
    "tags": []
   },
   "outputs": [
    {
     "data": {
      "text/plain": [
       "array([0, 1, 1, ..., 0, 1, 0])"
      ]
     },
     "execution_count": 34,
     "metadata": {},
     "output_type": "execute_result"
    }
   ],
   "source": [
    "prediction"
   ]
  },
  {
   "cell_type": "code",
   "execution_count": 35,
   "id": "efa18f67",
   "metadata": {
    "execution": {
     "iopub.execute_input": "2024-07-08T14:40:21.628858Z",
     "iopub.status.busy": "2024-07-08T14:40:21.628537Z",
     "iopub.status.idle": "2024-07-08T14:40:30.635216Z",
     "shell.execute_reply": "2024-07-08T14:40:30.634079Z"
    },
    "papermill": {
     "duration": 9.052794,
     "end_time": "2024-07-08T14:40:30.637451",
     "exception": false,
     "start_time": "2024-07-08T14:40:21.584657",
     "status": "completed"
    },
    "tags": []
   },
   "outputs": [
    {
     "name": "stdout",
     "output_type": "stream",
     "text": [
      "Submission file created: Submission.csv\n"
     ]
    }
   ],
   "source": [
    "submission = pd.DataFrame({\n",
    "    'id': id,  # Replace with the actual test data ID column name\n",
    "    'Response': prediction   # Replace with the actual target column name for the competition\n",
    "})\n",
    "\n",
    "# Save the DataFrame to a CSV file\n",
    "submission.to_csv('Submission3.csv', index=False)\n",
    "\n",
    "print(\"Submission file created: Submission.csv\")"
   ]
  },
  {
   "cell_type": "code",
   "execution_count": null,
   "id": "0173426b",
   "metadata": {
    "papermill": {
     "duration": 0.041195,
     "end_time": "2024-07-08T14:40:30.720695",
     "exception": false,
     "start_time": "2024-07-08T14:40:30.679500",
     "status": "completed"
    },
    "tags": []
   },
   "outputs": [],
   "source": []
  }
 ],
 "metadata": {
  "kaggle": {
   "accelerator": "gpu",
   "dataSources": [
    {
     "databundleVersionId": 8930475,
     "sourceId": 73291,
     "sourceType": "competition"
    }
   ],
   "dockerImageVersionId": 30732,
   "isGpuEnabled": true,
   "isInternetEnabled": true,
   "language": "python",
   "sourceType": "notebook"
  },
  "kernelspec": {
   "display_name": "Python 3",
   "language": "python",
   "name": "python3"
  },
  "language_info": {
   "codemirror_mode": {
    "name": "ipython",
    "version": 3
   },
   "file_extension": ".py",
   "mimetype": "text/x-python",
   "name": "python",
   "nbconvert_exporter": "python",
   "pygments_lexer": "ipython3",
   "version": "3.10.13"
  },
  "papermill": {
   "default_parameters": {},
   "duration": 150.641291,
   "end_time": "2024-07-08T14:40:31.582621",
   "environment_variables": {},
   "exception": null,
   "input_path": "__notebook__.ipynb",
   "output_path": "__notebook__.ipynb",
   "parameters": {},
   "start_time": "2024-07-08T14:38:00.941330",
   "version": "2.5.0"
  }
 },
 "nbformat": 4,
 "nbformat_minor": 5
}
